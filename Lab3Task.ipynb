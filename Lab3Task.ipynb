{
 "cells": [
  {
   "cell_type": "markdown",
   "id": "3bac2697",
   "metadata": {},
   "source": [
    "# 7.1 Sum of Digits in a String\n"
   ]
  },
  {
   "cell_type": "code",
   "execution_count": 1,
   "id": "642a3862",
   "metadata": {},
   "outputs": [
    {
     "name": "stdout",
     "output_type": "stream",
     "text": [
      "Enter a series of single-digit numbers with nothing separating them.GIFT\n",
      "wrong value\n"
     ]
    }
   ],
   "source": [
    "def sum_of_numbers(value):\n",
    "    x=0\n",
    "    if(value.isdigit()):\n",
    "        for num in value:\n",
    "            x+=int(num)\n",
    "        return x\n",
    "    else:\n",
    "        return \"wrong value\"\n",
    "    \n",
    "firstDigit=input(\"Enter a series of single-digit numbers with nothing separating them.\")\n",
    "print(sum_of_numbers(firstDigit))\n"
   ]
  },
  {
   "cell_type": "markdown",
   "id": "80ce4477",
   "metadata": {},
   "source": [
    "# 7.3 Reverse Incremental String Slicing\n"
   ]
  },
  {
   "cell_type": "code",
   "execution_count": 2,
   "id": "c097f667",
   "metadata": {},
   "outputs": [
    {
     "name": "stdout",
     "output_type": "stream",
     "text": [
      "Orignal String :GIFT\n",
      "Incremental reverse strings: ['T', 'TF', 'TFI', 'TFIG']\n"
     ]
    }
   ],
   "source": [
    "user_value=input(\"Orignal String :\")\n",
    " \n",
    "index_store=len(user_value)-1\n",
    "incrementString=\"\"\n",
    "result_list=[]\n",
    "for num in range((len(user_value))):\n",
    "    incrementString+=user_value[index_store]\n",
    "    result_list.append(incrementString)\n",
    "    index_store-=1\n",
    "print('Incremental reverse strings:', result_list)    \n",
    "    \n",
    "   \n",
    "   "
   ]
  },
  {
   "cell_type": "markdown",
   "id": "03f905ea",
   "metadata": {},
   "source": [
    "# 7.4 Alphabetic Telephone Number Translator"
   ]
  },
  {
   "cell_type": "code",
   "execution_count": 3,
   "id": "9b28ec8b",
   "metadata": {},
   "outputs": [],
   "source": [
    "TelephoneNumber={\"A\":2,\"B\":2,\"C\":2,\"D\":3,\"E\":3,\"F\":3,\"G\":4,\"H\":4,\n",
    "                 \"I\":4,\"J\":5,\"K\":5,\"L\":5,\"M\":6,\"N\":6 \n",
    "                 ,\"O\":6,\"P\":7,\"Q\":7,\"R\":7,\"S\":7,\"T\":8,\"U\":8,\"V\":8,\"W\":9,\"X\":9,\"Z\":9                      }"
   ]
  },
  {
   "cell_type": "code",
   "execution_count": 5,
   "id": "d530b738",
   "metadata": {},
   "outputs": [
    {
     "name": "stdout",
     "output_type": "stream",
     "text": [
      "Enter a 10-character telephone number in the format XXX-XXX-XXXX.555-GET-FOOD\n",
      "555-438-3663\n"
     ]
    }
   ],
   "source": [
    "telephonNumberInput=input('Enter a 10-character telephone number in the format XXX-XXX-XXXX.')\n",
    "telephoneNumberIncrement=\"\"\n",
    "for num in range((len(telephonNumberInput))):\n",
    "    if(telephonNumberInput[num]==\"-\"):\n",
    "        telephoneNumberIncrement+=\"-\"\n",
    "    elif(telephonNumberInput[num].isdigit()):\n",
    "         telephoneNumberIncrement+=telephonNumberInput[num]\n",
    "    elif(telephonNumberInput[num].isalpha()):\n",
    "        telephoneNumberIncrement+=str(TelephoneNumber[telephonNumberInput[num]])\n",
    "        \n",
    "print(telephoneNumberIncrement)    \n",
    "    \n",
    "    "
   ]
  },
  {
   "cell_type": "markdown",
   "id": "69ea3ed9",
   "metadata": {},
   "source": [
    "# 7.5 Password Validation"
   ]
  },
  {
   "cell_type": "code",
   "execution_count": 7,
   "id": "15603e08",
   "metadata": {},
   "outputs": [
    {
     "name": "stdout",
     "output_type": "stream",
     "text": [
      "Enter any string: Has345'\n",
      "valid\n"
     ]
    }
   ],
   "source": [
    "import string\n",
    "passwordInput = input('Enter any string: ')\n",
    "def passwordValidationCheck(passwordInput):\n",
    "    digitCheck,loswerCaseCheck,UpperCaseCheck,specialCharacter=False,False,False,False\n",
    "    sepcialCharacterSet = set(string.punctuation)\n",
    "    for val in passwordInput:\n",
    "        if(val.islower()):\n",
    "            loswerCaseCheck=True\n",
    "        elif(val.isupper()):\n",
    "            UpperCaseCheck=True\n",
    "        elif(val in sepcialCharacterSet):\n",
    "            specialCharacter=True\n",
    "        elif(val.isdigit()):\n",
    "            digitCheck=True\n",
    "    if(digitCheck and loswerCaseCheck and UpperCaseCheck and specialCharacter):\n",
    "        return \"valid\"\n",
    "    else:\n",
    "        return \"invalid\"\n",
    "print(passwordValidationCheck(passwordInput))  \n",
    "\n",
    " "
   ]
  },
  {
   "cell_type": "markdown",
   "id": "ec8ceb5f",
   "metadata": {},
   "source": [
    "# 7.6 Sentence Capitalizer "
   ]
  },
  {
   "cell_type": "code",
   "execution_count": 2,
   "id": "9f34925f",
   "metadata": {},
   "outputs": [
    {
     "name": "stdout",
     "output_type": "stream",
     "text": [
      "What is your name : hello. my name is Joe. what is your name?\n",
      "Hello.My name is joe.What is your name?\n"
     ]
    }
   ],
   "source": [
    "nameInput=input(\"What is your name : \")\n",
    "def sentenceCapitalizer(nameInput):\n",
    "    mainList=nameInput.split(\". \")\n",
    "    modifiedList=[]\n",
    "    for val in mainList:\n",
    "        modifiedList.append(val.capitalize())\n",
    "    return \".\".join(modifiedList)\n",
    "print(sentenceCapitalizer(nameInput))    \n"
   ]
  },
  {
   "cell_type": "markdown",
   "id": "1a4488ae",
   "metadata": {},
   "source": [
    "# 7.7 Pig Latin"
   ]
  },
  {
   "cell_type": "code",
   "execution_count": 12,
   "id": "d989406d",
   "metadata": {},
   "outputs": [
    {
     "name": "stdout",
     "output_type": "stream",
     "text": [
      "English:I SLEPT MOST OF THE NIGHT\n",
      "Pig Latin : IAY LEPTSAY OSTMAY FOAY HETAY IGHTNAY\n"
     ]
    }
   ],
   "source": [
    "User_input_for_pig_Latin=input(\"English:\")\n",
    "def pig_Latin_Conversion(User_input_for_pig_Latin):\n",
    "    spaced_string=User_input_for_pig_Latin.split(\" \")\n",
    "    update_String=[]\n",
    "    for val in spaced_string:\n",
    "        update_String.append(val[1:]+val[0]+\"AY\")\n",
    "    return \" \".join(update_String)\n",
    "        \n",
    "print('Pig Latin : {}'.format(pig_Latin_Conversion(User_input_for_pig_Latin))) \n",
    "    "
   ]
  },
  {
   "cell_type": "code",
   "execution_count": null,
   "id": "c89b1721",
   "metadata": {},
   "outputs": [],
   "source": []
  }
 ],
 "metadata": {
  "kernelspec": {
   "display_name": "Python 3",
   "language": "python",
   "name": "python3"
  },
  "language_info": {
   "codemirror_mode": {
    "name": "ipython",
    "version": 3
   },
   "file_extension": ".py",
   "mimetype": "text/x-python",
   "name": "python",
   "nbconvert_exporter": "python",
   "pygments_lexer": "ipython3",
   "version": "3.8.8"
  }
 },
 "nbformat": 4,
 "nbformat_minor": 5
}
