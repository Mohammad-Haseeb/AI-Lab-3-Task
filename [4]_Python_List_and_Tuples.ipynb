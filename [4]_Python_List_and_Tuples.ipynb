{
  "nbformat": 4,
  "nbformat_minor": 0,
  "metadata": {
    "kernelspec": {
      "display_name": "Python 3",
      "language": "python",
      "name": "python3"
    },
    "language_info": {
      "codemirror_mode": {
        "name": "ipython",
        "version": 3
      },
      "file_extension": ".py",
      "mimetype": "text/x-python",
      "name": "python",
      "nbconvert_exporter": "python",
      "pygments_lexer": "ipython3",
      "version": "3.8.8"
    },
    "colab": {
      "name": "[4] Python List and Tuples.ipynb",
      "provenance": [],
      "include_colab_link": true
    }
  },
  "cells": [
    {
      "cell_type": "markdown",
      "metadata": {
        "id": "view-in-github",
        "colab_type": "text"
      },
      "source": [
        "<a href=\"https://colab.research.google.com/github/Mohammad-Haseeb/AI-Lab-3-Task/blob/main/%5B4%5D_Python_List_and_Tuples.ipynb\" target=\"_parent\"><img src=\"https://colab.research.google.com/assets/colab-badge.svg\" alt=\"Open In Colab\"/></a>"
      ]
    },
    {
      "cell_type": "markdown",
      "metadata": {
        "id": "rUimY4cubNOu"
      },
      "source": [
        "# Collections\n",
        "\n",
        "Earlier in our labs we looked at some Python built-in types such as `string`, `int`, `float`, and `bool`. These types store single value. There are some other built-in types in Python which are collectively known as __collections__. This is because they represent a collection of other types such as types of strings, or numbers. \n",
        "\n",
        "A _collection_ is a single object representing a group of objects. Collections may also be referred to as _containers_ as they contain other objects. These collection types support various types of data structures (such as lists, tuples, dictionaries, sets, and maps) and ways to process elements within those structures. \n",
        "\n",
        "## Python Collection Types\n",
        "There are four classes in Python that provide container like behavior, these are:\n",
        "\n",
        "- __Tuples__: A Tuple represents a collection of objects that are ordered and immutable (cannot be modified). Tuple allows duplicate members and are indexed.\n",
        "- __Lists__: Lists hold a collection of objects that are ordered and mutable (changeable), they are indexed and allow duplicate members. \n",
        "- __Sets__: Sets are a collection that is unordered and unindexed. They are mutable (changeable) but do not allow duplicate values to be held. \n",
        "- __Dictionary__: A dictionary is an unordered collection that is indexed by a _key_ which references to a _value_. The value is returned when the _key_ is provided. No duplicate keys are allowed. However, duplicate values are allowed. Dictionaries are mutable containers. "
      ]
    },
    {
      "cell_type": "markdown",
      "metadata": {
        "id": "7MHMHICObNO5"
      },
      "source": [
        "# Lists\n",
        "Lists are _positionally ordered collections of arbitrarily typed objects, and they have no fixed size_. They are also mutable—unlike strings, lists can be modified in place by assignment to offsets as well as a variety of list method calls.\n"
      ]
    },
    {
      "cell_type": "markdown",
      "metadata": {
        "id": "eiX5f3n7bNO7"
      },
      "source": [
        "## Creating Lists\n",
        "Lists are created using square brackets positioned around the elements of list that are separated using a comma. For example:"
      ]
    },
    {
      "cell_type": "code",
      "metadata": {
        "id": "ANfMuyZUbNO8"
      },
      "source": [
        "# A list of numbers\n",
        "even_numbers = [0,2,4,6,8,10,12]"
      ],
      "execution_count": null,
      "outputs": []
    },
    {
      "cell_type": "code",
      "metadata": {
        "id": "8f1Z_snkbNO-",
        "outputId": "c6c766db-d2d2-4fd8-f33e-b61149be57a2"
      },
      "source": [
        "# Print the list\n",
        "print(even_numbers)"
      ],
      "execution_count": null,
      "outputs": [
        {
          "output_type": "stream",
          "text": [
            "[0, 2, 4, 6, 8, 10, 12]\n"
          ],
          "name": "stdout"
        }
      ]
    },
    {
      "cell_type": "code",
      "metadata": {
        "id": "XWoid_65bNPC",
        "outputId": "292dc36d-1887-4a6d-8357-cfb43d55a6c4"
      },
      "source": [
        "# Check the data type\n",
        "print(type(even_numbers))"
      ],
      "execution_count": null,
      "outputs": [
        {
          "output_type": "stream",
          "text": [
            "<class 'list'>\n"
          ],
          "name": "stdout"
        }
      ]
    },
    {
      "cell_type": "code",
      "metadata": {
        "id": "wKh2NWWAbNPD"
      },
      "source": [
        "# Create a Hetrogenous list\n",
        "# A list of three different-type objects\n",
        "L = [123, 'spam', 1.23]    "
      ],
      "execution_count": null,
      "outputs": []
    },
    {
      "cell_type": "markdown",
      "metadata": {
        "id": "LsJTdaOkbNPE"
      },
      "source": [
        "## Accessing Elements of List (Indexing)\n",
        "You can access elements from a list using an index (within square bracket). The index returns the object at that position. For example:"
      ]
    },
    {
      "cell_type": "code",
      "metadata": {
        "id": "21NQv41qbNPG",
        "outputId": "eb1bbfd4-7873-4c48-97e0-8c4ca6ec2dd0"
      },
      "source": [
        "L[0]"
      ],
      "execution_count": null,
      "outputs": [
        {
          "output_type": "execute_result",
          "data": {
            "text/plain": [
              "123"
            ]
          },
          "metadata": {
            "tags": []
          },
          "execution_count": 14
        }
      ]
    },
    {
      "cell_type": "code",
      "metadata": {
        "scrolled": false,
        "id": "TCfh2c7EbNPI",
        "outputId": "9d0d312a-1006-4440-fa47-b5f0a92b213e"
      },
      "source": [
        "print(type(L[1]))"
      ],
      "execution_count": null,
      "outputs": [
        {
          "output_type": "stream",
          "text": [
            "<class 'str'>\n"
          ],
          "name": "stdout"
        }
      ]
    },
    {
      "cell_type": "markdown",
      "metadata": {
        "id": "mPmiXqqKbNPK"
      },
      "source": [
        "### Negative Indexing\n",
        "Negative indexing can also be applied on lists. "
      ]
    },
    {
      "cell_type": "code",
      "metadata": {
        "scrolled": true,
        "id": "6jvCZ0fybNPL",
        "outputId": "3d57a9dc-847e-4dbf-d6ba-e0fac1d8eda7"
      },
      "source": [
        "L[-1]"
      ],
      "execution_count": null,
      "outputs": [
        {
          "output_type": "execute_result",
          "data": {
            "text/plain": [
              "1.23"
            ]
          },
          "metadata": {
            "tags": []
          },
          "execution_count": 16
        }
      ]
    },
    {
      "cell_type": "code",
      "metadata": {
        "scrolled": false,
        "id": "QukueI9obNPM",
        "outputId": "bcc5dd5e-be15-4f77-a19f-e6b21a4a3fec"
      },
      "source": [
        "# Index out of range\n",
        "L[5]"
      ],
      "execution_count": null,
      "outputs": [
        {
          "output_type": "error",
          "ename": "IndexError",
          "evalue": "list index out of range",
          "traceback": [
            "\u001b[1;31m---------------------------------------------------------------------------\u001b[0m",
            "\u001b[1;31mIndexError\u001b[0m                                Traceback (most recent call last)",
            "\u001b[1;32m<ipython-input-17-2ab3c632dcf8>\u001b[0m in \u001b[0;36m<module>\u001b[1;34m\u001b[0m\n\u001b[0;32m      1\u001b[0m \u001b[1;31m# Index out of range\u001b[0m\u001b[1;33m\u001b[0m\u001b[1;33m\u001b[0m\u001b[1;33m\u001b[0m\u001b[0m\n\u001b[1;32m----> 2\u001b[1;33m \u001b[0mL\u001b[0m\u001b[1;33m[\u001b[0m\u001b[1;36m5\u001b[0m\u001b[1;33m]\u001b[0m\u001b[1;33m\u001b[0m\u001b[1;33m\u001b[0m\u001b[0m\n\u001b[0m",
            "\u001b[1;31mIndexError\u001b[0m: list index out of range"
          ]
        }
      ]
    },
    {
      "cell_type": "markdown",
      "metadata": {
        "id": "oCSSp8f9bNPN"
      },
      "source": [
        "## Exercise \n",
        "\n",
        "Create a list named `cgpa` that contains the cgpa of 6 students"
      ]
    },
    {
      "cell_type": "code",
      "metadata": {
        "id": "d39dOs_dbNPO"
      },
      "source": [
        "cgpa=[3.4,2.6,3.6,2.9,3.9,4.0]"
      ],
      "execution_count": null,
      "outputs": []
    },
    {
      "cell_type": "markdown",
      "metadata": {
        "id": "mJoOxeJwbNPP"
      },
      "source": [
        "Print out the list `cgpa`"
      ]
    },
    {
      "cell_type": "code",
      "metadata": {
        "colab": {
          "base_uri": "https://localhost:8080/"
        },
        "id": "HGcstr_ebNPQ",
        "outputId": "3d46ab35-698f-4808-807a-6b59762ad79c"
      },
      "source": [
        "for val in cgpa:\n",
        "  print(val)"
      ],
      "execution_count": null,
      "outputs": [
        {
          "output_type": "stream",
          "text": [
            "3.4\n",
            "2.6\n",
            "3.6\n",
            "2.9\n",
            "3.9\n",
            "4.0\n"
          ],
          "name": "stdout"
        }
      ]
    },
    {
      "cell_type": "markdown",
      "metadata": {
        "id": "ITVmS0M3bNPR"
      },
      "source": [
        "Print the `cgpa` of _third_ student"
      ]
    },
    {
      "cell_type": "code",
      "metadata": {
        "colab": {
          "base_uri": "https://localhost:8080/"
        },
        "id": "CaUBFWlObNPR",
        "outputId": "a7a2443e-cbe1-4ce3-eb4d-5aed455e2b7b"
      },
      "source": [
        "print(cgpa[2])"
      ],
      "execution_count": null,
      "outputs": [
        {
          "output_type": "stream",
          "text": [
            "3.6\n"
          ],
          "name": "stdout"
        }
      ]
    },
    {
      "cell_type": "markdown",
      "metadata": {
        "id": "SRRLeBAZbNPS"
      },
      "source": [
        "Use a `for` loop to iterate over list items of `cgpa`"
      ]
    },
    {
      "cell_type": "code",
      "metadata": {
        "id": "w41COgu1bNPT"
      },
      "source": [
        ""
      ],
      "execution_count": null,
      "outputs": []
    },
    {
      "cell_type": "markdown",
      "metadata": {
        "id": "7EUzsx_jbNPU"
      },
      "source": [
        "## Multi-dimensional Lists\n",
        "\n",
        "One nice feature of Python’s core data types is that they support arbitrary nesting—we\n",
        "can nest them in any combination, and as deeply as we like. For example, we can have\n",
        "a list that contains a dictionary, which contains another list, and so on. One immediate\n",
        "application of this feature is to represent matrixes, or “multidimensional arrays” in\n",
        "Python.\n",
        "Lists can contain lists also. For example, you are recording the age of your friends along with their names."
      ]
    },
    {
      "cell_type": "code",
      "metadata": {
        "id": "8MSXRjq8bNPV"
      },
      "source": [
        "# One Dimensional List\n",
        "friends_age_1d = [\"Zeeshan\",26, \"Qasim\", 27, \"Huzaifa\", 25, \"Abdul Wahab\", 19, \"Sajawal\",27, \"Mudassar\",28]"
      ],
      "execution_count": 1,
      "outputs": []
    },
    {
      "cell_type": "markdown",
      "metadata": {
        "id": "k4ALB6I-bNPW"
      },
      "source": [
        "Although it is created but it is a bit difficult to understand. We can transform it into list of lists. "
      ]
    },
    {
      "cell_type": "code",
      "metadata": {
        "id": "or_J7i9RbNPa",
        "colab": {
          "base_uri": "https://localhost:8080/"
        },
        "outputId": "4bc02268-87eb-4588-9697-784f9933bf9c"
      },
      "source": [
        "# Age of Huzaifa\n",
        "friends_age_1d[5]"
      ],
      "execution_count": 2,
      "outputs": [
        {
          "output_type": "execute_result",
          "data": {
            "text/plain": [
              "25"
            ]
          },
          "metadata": {
            "tags": []
          },
          "execution_count": 2
        }
      ]
    },
    {
      "cell_type": "code",
      "metadata": {
        "id": "veBICBnBbNPb"
      },
      "source": [
        "# Multi-dimensional list\n",
        "friends_age_2d = [[\"Zeeshan\",26],\n",
        "                  [\"Qasim\", 27],\n",
        "                  [\"Huzaifa\", 25],\n",
        "                  [\"Abdul Wahab\", 19],\n",
        "                  [\"Sajawal\",27],\n",
        "                  [\"Mudassar\",28]\n",
        "                 ]"
      ],
      "execution_count": 3,
      "outputs": []
    },
    {
      "cell_type": "code",
      "metadata": {
        "id": "XcpRzKgqbNPc",
        "colab": {
          "base_uri": "https://localhost:8080/"
        },
        "outputId": "81fb441b-3626-4ee1-8ee4-ee1af6a62b07"
      },
      "source": [
        "# Fetch the element at index 3\n",
        "friends_age_2d[3]"
      ],
      "execution_count": 4,
      "outputs": [
        {
          "output_type": "execute_result",
          "data": {
            "text/plain": [
              "['Abdul Wahab', 19]"
            ]
          },
          "metadata": {
            "tags": []
          },
          "execution_count": 4
        }
      ]
    },
    {
      "cell_type": "code",
      "metadata": {
        "id": "WJyVWE89bNPd",
        "colab": {
          "base_uri": "https://localhost:8080/"
        },
        "outputId": "74d16063-1e65-4e22-fb88-0b954eac150a"
      },
      "source": [
        "# Fetch the age of sajawal\n",
        "friends_age_2d[3][1]"
      ],
      "execution_count": 5,
      "outputs": [
        {
          "output_type": "execute_result",
          "data": {
            "text/plain": [
              "19"
            ]
          },
          "metadata": {
            "tags": []
          },
          "execution_count": 5
        }
      ]
    },
    {
      "cell_type": "code",
      "metadata": {
        "id": "iUStxOzcbNPe",
        "colab": {
          "base_uri": "https://localhost:8080/"
        },
        "outputId": "61dea3a8-64cc-4ffe-9d72-64acff5c57d5"
      },
      "source": [
        "# Print the types\n",
        "for friend in friends_age_2d:\n",
        "    print(type(friend))\n"
      ],
      "execution_count": 6,
      "outputs": [
        {
          "output_type": "stream",
          "text": [
            "<class 'list'>\n",
            "<class 'list'>\n",
            "<class 'list'>\n",
            "<class 'list'>\n",
            "<class 'list'>\n",
            "<class 'list'>\n"
          ],
          "name": "stdout"
        }
      ]
    },
    {
      "cell_type": "code",
      "metadata": {
        "id": "4uWQ1qj2bNPg",
        "colab": {
          "base_uri": "https://localhost:8080/"
        },
        "outputId": "239d6eb1-6e83-48c8-b543-5cbbb7adae52"
      },
      "source": [
        "# Print the types of each element in nested list\n",
        "for friend in friends_age_2d:\n",
        "    for f in friend:\n",
        "        print(type(f))"
      ],
      "execution_count": 7,
      "outputs": [
        {
          "output_type": "stream",
          "text": [
            "<class 'str'>\n",
            "<class 'int'>\n",
            "<class 'str'>\n",
            "<class 'int'>\n",
            "<class 'str'>\n",
            "<class 'int'>\n",
            "<class 'str'>\n",
            "<class 'int'>\n",
            "<class 'str'>\n",
            "<class 'int'>\n",
            "<class 'str'>\n",
            "<class 'int'>\n"
          ],
          "name": "stdout"
        }
      ]
    },
    {
      "cell_type": "code",
      "metadata": {
        "id": "Jxm5Z3nUbNPh"
      },
      "source": [
        "# A matrix\n",
        "matrix = [\n",
        "           [1,0,0],\n",
        "           [0,1,0],\n",
        "           [0,0,1]\n",
        "          ]"
      ],
      "execution_count": 8,
      "outputs": []
    },
    {
      "cell_type": "code",
      "metadata": {
        "id": "mCPOfxoabNPi"
      },
      "source": [
        "# Higher Dimension list\n",
        "# A list representing each student's id, name, and tasks list he/she completed\n",
        "lab1_stats = [\n",
        "    [1,\"Usman\",[\"T1\",\"T2\", \"T3\"]],\n",
        "    [2, \"Asad\", [\"T1\", \"T2\", \"T4\", \"T5\"]],\n",
        "    [3, \"Faraz\", [\"T1\", \"T2\"]]\n",
        "]"
      ],
      "execution_count": 9,
      "outputs": []
    },
    {
      "cell_type": "code",
      "metadata": {
        "id": "tayZr-37bNPj",
        "colab": {
          "base_uri": "https://localhost:8080/"
        },
        "outputId": "b47cb33b-be16-48f1-e639-d2432c835da7"
      },
      "source": [
        "# Access the tasks of student at index 0\n",
        "lab1_stats[0][2]"
      ],
      "execution_count": 10,
      "outputs": [
        {
          "output_type": "execute_result",
          "data": {
            "text/plain": [
              "['T1', 'T2', 'T3']"
            ]
          },
          "metadata": {
            "tags": []
          },
          "execution_count": 10
        }
      ]
    },
    {
      "cell_type": "code",
      "metadata": {
        "id": "-mfkA5aQbNPk",
        "colab": {
          "base_uri": "https://localhost:8080/"
        },
        "outputId": "3c2ea765-cdf7-4dce-e7e2-ceb639922185"
      },
      "source": [
        "# How many tasks were completed by student at index 1\n",
        "len(lab1_stats[1][2])"
      ],
      "execution_count": 11,
      "outputs": [
        {
          "output_type": "execute_result",
          "data": {
            "text/plain": [
              "4"
            ]
          },
          "metadata": {
            "tags": []
          },
          "execution_count": 11
        }
      ]
    },
    {
      "cell_type": "code",
      "metadata": {
        "scrolled": true,
        "id": "Npd24ZQ5bNPl",
        "colab": {
          "base_uri": "https://localhost:8080/",
          "height": 0
        },
        "outputId": "8f7c933c-b4c1-4e74-90d9-3100c99bb759"
      },
      "source": [
        "# What was the last task performed by student at index 2\n",
        "lab1_stats[2][2][len(lab1_stats[2][2])-1]"
      ],
      "execution_count": 12,
      "outputs": [
        {
          "output_type": "execute_result",
          "data": {
            "application/vnd.google.colaboratory.intrinsic+json": {
              "type": "string"
            },
            "text/plain": [
              "'T2'"
            ]
          },
          "metadata": {
            "tags": []
          },
          "execution_count": 12
        }
      ]
    },
    {
      "cell_type": "code",
      "metadata": {
        "scrolled": true,
        "id": "yMNzVFpfbNPm",
        "colab": {
          "base_uri": "https://localhost:8080/"
        },
        "outputId": "6f910c92-5479-4a79-e771-aeddcd4de7dd"
      },
      "source": [
        "# Print each student id, name, and tasks performed\n",
        "for students in lab1_stats:\n",
        "    print(\"ID: {}\".format(students[0]))\n",
        "    print(\"Name: {}\".format(students[1]))\n",
        "    tasks = students[2]\n",
        "    print(\"Tasks Performed: \", end =\" \")\n",
        "    for task in tasks:\n",
        "        print(task, end = \",\")\n",
        "    print()    "
      ],
      "execution_count": 13,
      "outputs": [
        {
          "output_type": "stream",
          "text": [
            "ID: 1\n",
            "Name: Usman\n",
            "Tasks Performed:  T1,T2,T3,\n",
            "ID: 2\n",
            "Name: Asad\n",
            "Tasks Performed:  T1,T2,T4,T5,\n",
            "ID: 3\n",
            "Name: Faraz\n",
            "Tasks Performed:  T1,T2,\n"
          ],
          "name": "stdout"
        }
      ]
    },
    {
      "cell_type": "markdown",
      "metadata": {
        "id": "coyQ9XwNbNPo"
      },
      "source": [
        "## Exercise"
      ]
    },
    {
      "cell_type": "markdown",
      "metadata": {
        "id": "btgu1O5BbNPp"
      },
      "source": [
        "In the previous exercise, you have created a list `cgpa` that contains cgpa of 6 students. \n",
        "\n",
        "Now, first add name of each student in the list. For example,\n",
        "\n",
        "cgpa = [\"name\",3.3,\"name2\",2.22...]"
      ]
    },
    {
      "cell_type": "code",
      "metadata": {
        "id": "h33RCip6bNPq"
      },
      "source": [
        "cgpa=[\"Ali\",3.4,\"Ahmad\",2.6,\"Hassan\",3.6,\"Zubair\",2.9,\"Shafiq\",3.9,\"Usama\",4.0]"
      ],
      "execution_count": null,
      "outputs": []
    },
    {
      "cell_type": "markdown",
      "metadata": {
        "id": "jzcr2wD1bNPq"
      },
      "source": [
        "Now, make a 2-dimensional list `students_cgpa`. Each sub-list should contain student name and cgpa. "
      ]
    },
    {
      "cell_type": "code",
      "metadata": {
        "id": "YUfRuvqvbNPr"
      },
      "source": [
        "students_cgpa=[[\"Ali\",3.4],[\"Ahmad\",2.6],[\"Hassan\",3.6],[\"Zubair\",2.9],[\"Shafiq\",3.9],[\"Usama\",4.0]]\n"
      ],
      "execution_count": null,
      "outputs": []
    },
    {
      "cell_type": "markdown",
      "metadata": {
        "id": "u1tZMZHsbNPs"
      },
      "source": [
        "Print CGPA of last student in the list"
      ]
    },
    {
      "cell_type": "code",
      "metadata": {
        "id": "Jx3-Gy7XbNPs",
        "colab": {
          "base_uri": "https://localhost:8080/"
        },
        "outputId": "606667a7-d5cf-4845-d188-6a020d56835b"
      },
      "source": [
        "print(students_cgpa[-1][-1])"
      ],
      "execution_count": null,
      "outputs": [
        {
          "output_type": "stream",
          "text": [
            "4.0\n"
          ],
          "name": "stdout"
        }
      ]
    },
    {
      "cell_type": "markdown",
      "metadata": {
        "id": "2p70ujRxbNPt"
      },
      "source": [
        "Print each student name and cgpa "
      ]
    },
    {
      "cell_type": "code",
      "metadata": {
        "id": "At2m-KPDbNPt",
        "colab": {
          "base_uri": "https://localhost:8080/"
        },
        "outputId": "4ef90aa8-3225-46bf-86c0-db892cac0d16"
      },
      "source": [
        "for val in  students_cgpa:\n",
        "  print(\"Name {} \\t  cgpa : {}\".format(val[0],val[1]))"
      ],
      "execution_count": null,
      "outputs": [
        {
          "output_type": "stream",
          "text": [
            "Name Ali \t  cgpa : 3.4\n",
            "Name Ahmad \t  cgpa : 2.6\n",
            "Name Hassan \t  cgpa : 3.6\n",
            "Name Zubair \t  cgpa : 2.9\n",
            "Name Shafiq \t  cgpa : 3.9\n",
            "Name Usama \t  cgpa : 4.0\n"
          ],
          "name": "stdout"
        }
      ]
    },
    {
      "cell_type": "markdown",
      "metadata": {
        "id": "FL4z4W8KbNPu"
      },
      "source": [
        "Calculate average cgpa"
      ]
    },
    {
      "cell_type": "code",
      "metadata": {
        "scrolled": true,
        "id": "DsCN-w2WbNPv",
        "colab": {
          "base_uri": "https://localhost:8080/"
        },
        "outputId": "69ab8dfb-c4dd-45f0-bf14-2939b7e28a48"
      },
      "source": [
        "average=0\n",
        "for val in  students_cgpa:\n",
        "  average+=val[1]\n",
        "print(\"Average cgpa is : {}\".format(average/len(students_cgpa)))  "
      ],
      "execution_count": null,
      "outputs": [
        {
          "output_type": "stream",
          "text": [
            "Average cgpa is : 3.4\n"
          ],
          "name": "stdout"
        }
      ]
    },
    {
      "cell_type": "markdown",
      "metadata": {
        "id": "9uxKSaFXbNPv"
      },
      "source": [
        "## List Slicing\n",
        "A slicing expression selects a range of elements from a sequence.\n",
        "\n",
        "You have seen how indexing allows you to select a specific element in a sequence. Sometimes \n",
        "you want to select more than one element from a sequence. In Python, you can write \n",
        "expressions that select subsections of a sequence, known as slices.\n",
        "\n",
        "\n",
        "A slice is a span of items that are taken from a sequence. When you take a slice from a list, \n",
        "you get a span of elements from within the list. To get a slice of a list, you write an expression in the following general format:\n",
        "\n",
        "<center><code>list_name[start:end]</code></center>\n",
        "\n",
        "In the general format, _start_ is the index of the first element in the _slice_, and _end_ is the index marking the _end_ of the slice. The expression _returns a list containing a copy of the elements from start up to (but not including) end_."
      ]
    },
    {
      "cell_type": "code",
      "metadata": {
        "id": "y89bxL0WbNPx"
      },
      "source": [
        "# list of days of a week\n",
        "weekdays = [\"Sunday\",\"Monday\",\"Tuesday\",\"Wednesday\",\"Thursday\",\"Friday\",\"Saturday\"]"
      ],
      "execution_count": null,
      "outputs": []
    },
    {
      "cell_type": "code",
      "metadata": {
        "id": "IuO4QmPTbNPy"
      },
      "source": [
        "# The following statement uses a slicing expression to get the elements from indexes 2 up to, but not including, 5:\n",
        "mid_days = weekdays[2:5]"
      ],
      "execution_count": null,
      "outputs": []
    },
    {
      "cell_type": "code",
      "metadata": {
        "id": "dxfEG2EHbNPz",
        "colab": {
          "base_uri": "https://localhost:8080/"
        },
        "outputId": "c8716af0-4eae-4e58-ad9b-b077b1974ed0"
      },
      "source": [
        "print(mid_days)"
      ],
      "execution_count": null,
      "outputs": [
        {
          "output_type": "stream",
          "text": [
            "['Tuesday', 'Wednesday', 'Thursday']\n"
          ],
          "name": "stdout"
        }
      ]
    },
    {
      "cell_type": "markdown",
      "metadata": {
        "id": "zVbC-5tXbNP0"
      },
      "source": [
        "Omitting the _start_ index will start the slice from the beginning"
      ]
    },
    {
      "cell_type": "code",
      "metadata": {
        "id": "H2d-XFXFbNP1",
        "colab": {
          "base_uri": "https://localhost:8080/"
        },
        "outputId": "e69d839f-b4a4-4730-ec0a-93736ac4cece"
      },
      "source": [
        "weekdays[:4]"
      ],
      "execution_count": null,
      "outputs": [
        {
          "output_type": "execute_result",
          "data": {
            "text/plain": [
              "['Sunday', 'Monday', 'Tuesday', 'Wednesday']"
            ]
          },
          "metadata": {
            "tags": []
          },
          "execution_count": 16
        }
      ]
    },
    {
      "cell_type": "markdown",
      "metadata": {
        "id": "y70AgWvVbNP2"
      },
      "source": [
        "Omitting the _end_ index will slice till end of the list"
      ]
    },
    {
      "cell_type": "code",
      "metadata": {
        "id": "7-tpI1nJbNP3",
        "colab": {
          "base_uri": "https://localhost:8080/"
        },
        "outputId": "8ec46887-2c9f-4130-8dd2-45b0692f7a33"
      },
      "source": [
        "weekdays[4:]"
      ],
      "execution_count": null,
      "outputs": [
        {
          "output_type": "execute_result",
          "data": {
            "text/plain": [
              "['Thursday', 'Friday', 'Saturday']"
            ]
          },
          "metadata": {
            "tags": []
          },
          "execution_count": 17
        }
      ]
    },
    {
      "cell_type": "markdown",
      "metadata": {
        "id": "dVn6-AU5bNP4"
      },
      "source": [
        "__Note:__ Invalid indexes do not cause slicing expressions to raise an exception. For example:\n",
        "- If the end index specifies a position beyond the end of the list, Python will use the length of the list instead.\n",
        "- If the start index specifies a position before the beginning of the list, Python will use 0 instead.\n",
        "- If the start index is greater than the end index, the slicing expression will return an empty list."
      ]
    },
    {
      "cell_type": "markdown",
      "metadata": {
        "id": "A4TBSIvNbNP5"
      },
      "source": [
        "## Exercise\n",
        "\n",
        "1. What will the following code display?\n",
        "```python\n",
        "    numbers = [1,2,3,4,5]\n",
        "    print(numbers[1:3])\n",
        "```\n",
        "\n",
        "2. What will the following code display?\n",
        "```python\n",
        "    numbers = [1,2,3,4,5]\n",
        "    print(numbers[1:])\n",
        "```\n",
        "\n",
        "3. What will the following code display?\n",
        "```python\n",
        "    numbers = [1,2,3,4,5]\n",
        "    print(numbers[:1])\n",
        "```\n",
        "\n",
        "4. What will the following code display?\n",
        "```python\n",
        "    numbers = [1,2,3,4,5]\n",
        "    print(numbers[:])\n",
        "```\n",
        "\n",
        "5. What will the following code display?\n",
        "```python\n",
        "    numbers = [1,2,3,4,5]\n",
        "    print(numbers[-3:])\n",
        "```"
      ]
    },
    {
      "cell_type": "markdown",
      "metadata": {
        "id": "1p1CENI4bNP6"
      },
      "source": [
        "## Copying Lists"
      ]
    },
    {
      "cell_type": "markdown",
      "metadata": {
        "id": "5p4ypMTAbNP6"
      },
      "source": [
        "To make a copy of a list, you must copy the elements of the list. "
      ]
    },
    {
      "cell_type": "code",
      "metadata": {
        "id": "q_vqznK-bNP7"
      },
      "source": [
        "# Consider the example\n",
        "list1 = [1,2,3]\n",
        "list2 = list1"
      ],
      "execution_count": 14,
      "outputs": []
    },
    {
      "cell_type": "markdown",
      "metadata": {
        "id": "6ewyDNVkbNP8"
      },
      "source": [
        "Now, both lists points to same object in memory. Changing in one list reflects in the other list. "
      ]
    },
    {
      "cell_type": "code",
      "metadata": {
        "scrolled": true,
        "id": "yee8VcmKbNP8",
        "colab": {
          "base_uri": "https://localhost:8080/"
        },
        "outputId": "22c76d6c-d7d8-40ac-8cec-36b333aad109"
      },
      "source": [
        "list2[2] = 999\n",
        "list2"
      ],
      "execution_count": 15,
      "outputs": [
        {
          "output_type": "execute_result",
          "data": {
            "text/plain": [
              "[1, 2, 999]"
            ]
          },
          "metadata": {
            "tags": []
          },
          "execution_count": 15
        }
      ]
    },
    {
      "cell_type": "code",
      "metadata": {
        "scrolled": true,
        "id": "OaKovcJ7bNP9",
        "colab": {
          "base_uri": "https://localhost:8080/"
        },
        "outputId": "11411d94-78db-4617-dc70-d5ed18ca4199"
      },
      "source": [
        "list1"
      ],
      "execution_count": 16,
      "outputs": [
        {
          "output_type": "execute_result",
          "data": {
            "text/plain": [
              "[1, 2, 999]"
            ]
          },
          "metadata": {
            "tags": []
          },
          "execution_count": 16
        }
      ]
    },
    {
      "cell_type": "markdown",
      "metadata": {
        "id": "Z5OwuK_abNP-"
      },
      "source": [
        "In order to copy a list, use one of the following:\n",
        "\n",
        "1. Use slicing expression [:]\n",
        "2. Use copy() method of list"
      ]
    },
    {
      "cell_type": "code",
      "metadata": {
        "id": "aV7ovm2GbNP_",
        "colab": {
          "base_uri": "https://localhost:8080/"
        },
        "outputId": "e17290f9-313e-4725-8451-badef203b5a8"
      },
      "source": [
        "L1 = [1,2,3]\n",
        "L2 = L1[:] # deep copy\n",
        "\n",
        "L2[0] = \"Hi\"\n",
        "L2"
      ],
      "execution_count": 17,
      "outputs": [
        {
          "output_type": "execute_result",
          "data": {
            "text/plain": [
              "['Hi', 2, 3]"
            ]
          },
          "metadata": {
            "tags": []
          },
          "execution_count": 17
        }
      ]
    },
    {
      "cell_type": "code",
      "metadata": {
        "id": "tfrp969ObNQA",
        "colab": {
          "base_uri": "https://localhost:8080/"
        },
        "outputId": "61cb5b11-21fc-49ed-b825-76f4dea25408"
      },
      "source": [
        "L1"
      ],
      "execution_count": 18,
      "outputs": [
        {
          "output_type": "execute_result",
          "data": {
            "text/plain": [
              "[1, 2, 3]"
            ]
          },
          "metadata": {
            "tags": []
          },
          "execution_count": 18
        }
      ]
    },
    {
      "cell_type": "code",
      "metadata": {
        "id": "ry76VvmpbNQB",
        "colab": {
          "base_uri": "https://localhost:8080/"
        },
        "outputId": "ddb8d8d8-eac7-4300-9894-529e860a98ed"
      },
      "source": [
        "# Using Copy Method\n",
        "L3 = L1.copy()\n",
        "L3"
      ],
      "execution_count": 19,
      "outputs": [
        {
          "output_type": "execute_result",
          "data": {
            "text/plain": [
              "[1, 2, 3]"
            ]
          },
          "metadata": {
            "tags": []
          },
          "execution_count": 19
        }
      ]
    },
    {
      "cell_type": "markdown",
      "metadata": {
        "id": "jH1q_bsGbNQC"
      },
      "source": [
        "\n",
        "## Sequence Operations\n",
        "Because they are sequences, lists support all the sequence operations. Given below is a table that shows some of the common sequence operations\n",
        "\n",
        "|Operation|Description|\n",
        "|:---------|:-----------|\n",
        "x in seq | True, when x is found in the sequence seq, otherwise False\n",
        "x not in seq | False, when x is found in the sequence seq, otherwise True\n",
        "x + y | Concatenate two sequences x and y\n",
        "x * n or n * x | Add sequence x with itself n times\n",
        "seq\\[i\\]| ith item of the sequence.\n",
        "len(seq) | Length or number of elements in the sequence\n",
        "min(seq) | Minimum element in the sequence\n",
        "max(seq) | Maximum element in the sequence\n",
        "seq.index(x\\[, i[, j]\\]) | Index of the first occurrence of x (in the index range i and j)\n",
        "seq.count(x) | Count total number of elements in the sequence\n",
        "seq.append(x) | Add x at the end of the sequence\n",
        "seq.clear() | Clear the contents of the sequence\n",
        "seq.insert(i, x) | Insert x at the position i\n",
        "seq.extend(iterable) | adds the specified list elements (or any iterable) to the end of the current list.\n",
        "seq.pop(\\[i\\]) | Return the item at position i, and also remove it from sequence. Default is last element.\n",
        "seq.remove(x) | Remove first occurrence of item x\n",
        "seq.reverse() | Reverse the list"
      ]
    },
    {
      "cell_type": "code",
      "metadata": {
        "id": "W7fM8rVibNQD"
      },
      "source": [
        "# Create a list\n",
        "L = [1,2,3]"
      ],
      "execution_count": null,
      "outputs": []
    },
    {
      "cell_type": "code",
      "metadata": {
        "id": "iY_oolU9bNQE",
        "outputId": "08cbd2f2-8538-4e61-9b86-422c6d3e4ec2"
      },
      "source": [
        "# Check if 2 is present in list\n",
        "if 2 in L:\n",
        "    print(\"2 is present\")\n",
        "else:\n",
        "    print(\"2 is not present\")"
      ],
      "execution_count": null,
      "outputs": [
        {
          "output_type": "stream",
          "text": [
            "2 is present\n"
          ],
          "name": "stdout"
        }
      ]
    },
    {
      "cell_type": "code",
      "metadata": {
        "id": "7El43bIobNQF",
        "outputId": "bb5ec7c2-4db5-4aba-aa4f-841543e5adb8"
      },
      "source": [
        "# Check non-presence\n",
        "if -99 not in L:\n",
        "    print(\"-99 is not present\")\n",
        "    "
      ],
      "execution_count": null,
      "outputs": [
        {
          "output_type": "stream",
          "text": [
            "-99 is not present\n"
          ],
          "name": "stdout"
        }
      ]
    },
    {
      "cell_type": "code",
      "metadata": {
        "id": "OWly23oobNQG",
        "outputId": "72594bab-6b93-462a-b32a-38b10547991d"
      },
      "source": [
        "# Concatenation\n",
        "L1 = L + ['a','b','c']\n",
        "print(\"List L: \", L)\n",
        "print(\"List L1:\", L1)"
      ],
      "execution_count": null,
      "outputs": [
        {
          "output_type": "stream",
          "text": [
            "List L:  [1, 2, 3]\n",
            "List L1: [1, 2, 3, 'a', 'b', 'c']\n"
          ],
          "name": "stdout"
        }
      ]
    },
    {
      "cell_type": "code",
      "metadata": {
        "id": "nhuHrWEobNQH",
        "outputId": "f63061eb-50b6-48ba-8e10-e60cd6198b8d"
      },
      "source": [
        "# Repeating list\n",
        "L2 = L1 * 3  # Repeats L1 3 times and creates a new list L2\n",
        "print(L2)"
      ],
      "execution_count": null,
      "outputs": [
        {
          "output_type": "stream",
          "text": [
            "[1, 2, 3, 'a', 'b', 'c', 1, 2, 3, 'a', 'b', 'c', 1, 2, 3, 'a', 'b', 'c']\n"
          ],
          "name": "stdout"
        }
      ]
    },
    {
      "cell_type": "code",
      "metadata": {
        "scrolled": true,
        "id": "ZdizIdj6bNQI",
        "outputId": "c9e9e69f-0d80-46ce-ef97-ee785f9f373e"
      },
      "source": [
        "# Length\n",
        "length = len(L1)   # Remember the difference between keywords and reserved words? Is len reserved or keyword?\n",
        "print(\"Length: {}\".format(length))"
      ],
      "execution_count": null,
      "outputs": [
        {
          "output_type": "stream",
          "text": [
            "Length: 6\n"
          ],
          "name": "stdout"
        }
      ]
    },
    {
      "cell_type": "code",
      "metadata": {
        "id": "aAZGPHoObNQJ",
        "outputId": "cb18f2b9-7a61-4beb-809a-57d2cd64a67c"
      },
      "source": [
        "# Min and Max values\n",
        "min_val = min([2,3,6,5,4,0])\n",
        "max_val = max([2,3,6,5,4,0])\n",
        "print([2,3,6,5,4,0])\n",
        "print(\"Min: {}\".format(min_val))\n",
        "print(\"Max: {}\".format(max_val))"
      ],
      "execution_count": null,
      "outputs": [
        {
          "output_type": "stream",
          "text": [
            "[2, 3, 6, 5, 4, 0]\n",
            "Min: 0\n",
            "Max: 6\n"
          ],
          "name": "stdout"
        }
      ]
    },
    {
      "cell_type": "code",
      "metadata": {
        "id": "UCEpWltZbNQK",
        "outputId": "fccfa958-80ac-47f8-a11e-3f0b7d5ae83e"
      },
      "source": [
        "# Find index of 5\n",
        "[1,2,5,6,9].index(5)"
      ],
      "execution_count": null,
      "outputs": [
        {
          "output_type": "execute_result",
          "data": {
            "text/plain": [
              "2"
            ]
          },
          "metadata": {
            "tags": []
          },
          "execution_count": 2
        }
      ]
    },
    {
      "cell_type": "code",
      "metadata": {
        "id": "oXDCKRDQbNQL",
        "outputId": "2e08dde6-6173-4828-df6d-4c4e148c31db"
      },
      "source": [
        "num_list = [1,2,3,3,3,3,6,9,8,7,8,8,7]\n",
        "num_list.index(3) # returns the first occurrence "
      ],
      "execution_count": null,
      "outputs": [
        {
          "output_type": "execute_result",
          "data": {
            "text/plain": [
              "2"
            ]
          },
          "metadata": {
            "tags": []
          },
          "execution_count": 3
        }
      ]
    },
    {
      "cell_type": "code",
      "metadata": {
        "scrolled": true,
        "id": "muuIoazIbNQM",
        "outputId": "0fa9d7b9-b6e7-4c7e-a10a-395ae731b661"
      },
      "source": [
        "# Specify the starting and ending point of search\n",
        "num_list.index(3,3,6)"
      ],
      "execution_count": null,
      "outputs": [
        {
          "output_type": "execute_result",
          "data": {
            "text/plain": [
              "3"
            ]
          },
          "metadata": {
            "tags": []
          },
          "execution_count": 4
        }
      ]
    },
    {
      "cell_type": "code",
      "metadata": {
        "id": "qwW4VId2bNQN",
        "outputId": "dca999c0-5e6f-48b5-b212-c5198ea14696"
      },
      "source": [
        "# Count the number of 3's in the list\n",
        "num_list.count(3)"
      ],
      "execution_count": null,
      "outputs": [
        {
          "output_type": "execute_result",
          "data": {
            "text/plain": [
              "4"
            ]
          },
          "metadata": {
            "tags": []
          },
          "execution_count": 6
        }
      ]
    },
    {
      "cell_type": "code",
      "metadata": {
        "id": "1Dc1iaxZbNQO",
        "outputId": "d3e15aad-033d-4e11-c277-0f9ceb706dd6"
      },
      "source": [
        "# Append value at end of list\n",
        "num_list.append(0)\n",
        "num_list"
      ],
      "execution_count": null,
      "outputs": [
        {
          "output_type": "execute_result",
          "data": {
            "text/plain": [
              "[1, 2, 3, 3, 3, 3, 6, 9, 8, 7, 8, 8, 7, 0]"
            ]
          },
          "metadata": {
            "tags": []
          },
          "execution_count": 11
        }
      ]
    },
    {
      "cell_type": "code",
      "metadata": {
        "id": "XEfXjYN8bNQP"
      },
      "source": [
        "num_list.append([1,2,3])"
      ],
      "execution_count": null,
      "outputs": []
    },
    {
      "cell_type": "code",
      "metadata": {
        "id": "UZn9C9qGbNQQ",
        "outputId": "9cceb446-fe63-4cb7-d181-91ab4d4d989f"
      },
      "source": [
        "num_list"
      ],
      "execution_count": null,
      "outputs": [
        {
          "output_type": "execute_result",
          "data": {
            "text/plain": [
              "[1, 2, 3, 3, 3, 3, 6, 9, 8, 7, 8, 8, 7, 0, [1, 2, 3]]"
            ]
          },
          "metadata": {
            "tags": []
          },
          "execution_count": 13
        }
      ]
    },
    {
      "cell_type": "code",
      "metadata": {
        "scrolled": true,
        "id": "mPwMXrTpbNQQ",
        "outputId": "233f7029-6556-4884-b282-7705a6b66869"
      },
      "source": [
        "# Clear the contents of list\n",
        "print(\"List contents before clear operation: \", num_list)\n",
        "num_list.clear()\n",
        "print(\"List contents after clear operation: \", num_list)"
      ],
      "execution_count": null,
      "outputs": [
        {
          "output_type": "stream",
          "text": [
            "List contents before clear operation:  [1, 2, 3, 3, 3, 3, 6, 9, 8, 7, 8, 8, 7, 0, [1, 2, 3]]\n",
            "List contents after clear operation:  []\n"
          ],
          "name": "stdout"
        }
      ]
    },
    {
      "cell_type": "markdown",
      "metadata": {
        "id": "II8SXW2SbNQR"
      },
      "source": [
        "__Note:__ `clear()` method clears the contents of the list. It does not delete the list."
      ]
    },
    {
      "cell_type": "code",
      "metadata": {
        "id": "qT42MEQ-bNQS"
      },
      "source": [
        "# Extends a list\n",
        "num_list.extend([1,2,3])"
      ],
      "execution_count": null,
      "outputs": []
    },
    {
      "cell_type": "code",
      "metadata": {
        "scrolled": true,
        "id": "zFYhRnEPbNQT",
        "outputId": "d1d08f2d-ca16-4f27-fcbd-8354025e0f6e"
      },
      "source": [
        "# Insert Element at specific index\n",
        "num_list.insert(1,\"A\")\n",
        "num_list"
      ],
      "execution_count": null,
      "outputs": [
        {
          "output_type": "execute_result",
          "data": {
            "text/plain": [
              "[1, 'A', 2, 3]"
            ]
          },
          "metadata": {
            "tags": []
          },
          "execution_count": 20
        }
      ]
    },
    {
      "cell_type": "code",
      "metadata": {
        "id": "sytQ-RtBbNQU",
        "outputId": "9059799f-261e-4ae7-9dc3-1b401761fa55"
      },
      "source": [
        "num_list.pop(2)     # Shrinking: delete an item in the middle"
      ],
      "execution_count": null,
      "outputs": [
        {
          "output_type": "execute_result",
          "data": {
            "text/plain": [
              "2"
            ]
          },
          "metadata": {
            "tags": []
          },
          "execution_count": 21
        }
      ]
    },
    {
      "cell_type": "code",
      "metadata": {
        "id": "3GQlPr3ObNQU",
        "outputId": "934a43ab-5556-432a-b217-f6b9b2d46565"
      },
      "source": [
        "M = ['bb', 'aa', 'cc']\n",
        "M.sort()\n",
        "M"
      ],
      "execution_count": null,
      "outputs": [
        {
          "output_type": "execute_result",
          "data": {
            "text/plain": [
              "['aa', 'bb', 'cc']"
            ]
          },
          "metadata": {
            "tags": []
          },
          "execution_count": 22
        }
      ]
    },
    {
      "cell_type": "code",
      "metadata": {
        "id": "m05Du-SvbNQV"
      },
      "source": [
        "M.reverse()"
      ],
      "execution_count": null,
      "outputs": []
    },
    {
      "cell_type": "code",
      "metadata": {
        "id": "0QEk6yHkbNQW",
        "outputId": "6675bb2e-1a75-4745-8368-87192c19b1e7"
      },
      "source": [
        "M"
      ],
      "execution_count": null,
      "outputs": [
        {
          "output_type": "execute_result",
          "data": {
            "text/plain": [
              "['cc', 'bb', 'aa']"
            ]
          },
          "metadata": {
            "tags": []
          },
          "execution_count": 24
        }
      ]
    },
    {
      "cell_type": "markdown",
      "metadata": {
        "id": "dcf9alUPbNQX"
      },
      "source": [
        "The list **sort** method here, for example, orders the list in ascending fashion by default,\n",
        "and **reverse** reverses it—in both cases, the methods modify the list directly.\n"
      ]
    },
    {
      "cell_type": "markdown",
      "metadata": {
        "id": "HnqAaVRgbNQY"
      },
      "source": [
        "## Del Statement\n",
        "The remove method that you saw earlier removes a specific item from a list, if that item is \n",
        "in the list. Some situations might require that you remove an element from a specific index, \n",
        "regardless of the item that is stored at that index. This can be accomplished with the del\n",
        "statement. Here is an example of how to use the del statement:"
      ]
    },
    {
      "cell_type": "code",
      "metadata": {
        "scrolled": true,
        "id": "pw4rNVGFbNQZ",
        "outputId": "8f9835fa-d758-4bef-e2c5-10523f8d50c3"
      },
      "source": [
        "my_list = [1,2,3,4,5]\n",
        "print(\"Before Deletion: {}\".format(my_list))\n",
        "del my_list[2]\n",
        "print(\"After Deletion: {}\".format(my_list))\n"
      ],
      "execution_count": null,
      "outputs": [
        {
          "output_type": "stream",
          "text": [
            "Before Deletion: [1, 2, 3, 4, 5]\n",
            "After Deletion: [1, 2, 4, 5]\n"
          ],
          "name": "stdout"
        }
      ]
    },
    {
      "cell_type": "markdown",
      "metadata": {
        "id": "gohmDxIBbNQa"
      },
      "source": [
        "## Passing and Returning List from Functions"
      ]
    },
    {
      "cell_type": "code",
      "metadata": {
        "id": "o4G5I5Y4bNQa"
      },
      "source": [
        "def binary_search(l,key):\n",
        "    size = len(l)\n",
        "    if size == 0:\n",
        "        return false\n",
        "    if size == 1:\n",
        "        return l[0] == key\n",
        "    first = 0\n",
        "    last = size - 1\n",
        "    middle = None\n",
        "    while first <= last:\n",
        "        middle = (first+last)//2 # integer div\n",
        "        if l[middle] == key:\n",
        "            return middle\n",
        "        elif key > l[middle]:\n",
        "            first = middle + 1\n",
        "        else:\n",
        "            last = middle - 1\n",
        "    return false"
      ],
      "execution_count": null,
      "outputs": []
    },
    {
      "cell_type": "code",
      "metadata": {
        "id": "pTjWlcjjbNQb",
        "outputId": "44b0d99c-2087-4915-af14-1fb9048ebc6b"
      },
      "source": [
        "x = [c for c in range(100,10000000)]\n",
        "index = binary_search(x,8888888)\n",
        "print(x[index])"
      ],
      "execution_count": null,
      "outputs": [
        {
          "output_type": "stream",
          "text": [
            "8888888\n"
          ],
          "name": "stdout"
        }
      ]
    },
    {
      "cell_type": "markdown",
      "metadata": {
        "id": "jVpisIZFbNQc"
      },
      "source": [
        "## List Comprehension\n",
        "Do you remember the basic mathematics?\n",
        "\n",
        "* {x2 | x 2 N } gives squares of natural numbers.\n",
        "* {x2 : x in {0 . . . 9}} gives squares of numbers with in the provided set, {0 . . . 9}.\n",
        "\n",
        "List comprehension implements such well-known notations for sets. It is an elegant and concise way\n",
        "to define and create lists in Python, and off-course, it saves typing as well!\n",
        "\n",
        "Syntax for the list comprehension is:\n",
        "\"statement/expression\" followed by a \"for clause\" with in \"square brackets\".\n",
        "\n",
        "Let’s learn with example while comparing for loop and list comprehension."
      ]
    },
    {
      "cell_type": "code",
      "metadata": {
        "collapsed": true,
        "id": "DYL2kQ7LbNQd"
      },
      "source": [
        "# We have a list 'x'\n",
        "x = [2,3,4,5]"
      ],
      "execution_count": null,
      "outputs": []
    },
    {
      "cell_type": "markdown",
      "metadata": {
        "id": "JgnivV3ibNQe"
      },
      "source": [
        "What if we want to create a new list that contains squares of all the elements in list x? We can do this\n",
        "using a for loop as given in the code cell below (*please read the comments*)."
      ]
    },
    {
      "cell_type": "code",
      "metadata": {
        "collapsed": true,
        "id": "CO_iW3_9bNQf"
      },
      "source": [
        "def list_of_squares():\n",
        "    out = []     # empty list for squares\n",
        "    for num in x:     # loop test\n",
        "        out.append(num**2)     # taking squeares and appending them to the empty list \"out\"\n",
        "    print(out)     # using print to get the output"
      ],
      "execution_count": null,
      "outputs": []
    },
    {
      "cell_type": "code",
      "metadata": {
        "id": "SEx9MHG0bNQf",
        "outputId": "94c74d10-76a5-4b82-c30d-76e7723ca2ba"
      },
      "source": [
        "#calling list_of_squares function\n",
        "list_of_squares()"
      ],
      "execution_count": null,
      "outputs": [
        {
          "output_type": "stream",
          "text": [
            "[4, 9, 16, 25]\n"
          ],
          "name": "stdout"
        }
      ]
    },
    {
      "cell_type": "markdown",
      "metadata": {
        "id": "oZYs7KvGbNQg"
      },
      "source": [
        "Ok, we have accomplished the task to compute squares using for loop, however, the above task can be\n",
        "elegantly implemented using a list comprehension in a one line of code. **Simply take for statement\n",
        "and put it after what you want in result!**"
      ]
    },
    {
      "cell_type": "code",
      "metadata": {
        "id": "WiwJsS-0bNQh",
        "outputId": "3849ca5f-7c9c-49d0-d29e-f56a72228204"
      },
      "source": [
        "# So, this is going to be out first list comprehension to compute squares of all ,!the elements in a given list!\n",
        "[num**2 for num in x]"
      ],
      "execution_count": null,
      "outputs": [
        {
          "output_type": "execute_result",
          "data": {
            "text/plain": [
              "[4, 9, 16, 25]"
            ]
          },
          "metadata": {
            "tags": []
          },
          "execution_count": 18
        }
      ]
    },
    {
      "cell_type": "code",
      "metadata": {
        "id": "NweSz_EwbNQi",
        "outputId": "cfa17725-49b3-4185-f6aa-c9b3ebf91596"
      },
      "source": [
        "# Another example using string -- notice the white space!\n",
        "[letters for letters in 'Hello World']"
      ],
      "execution_count": null,
      "outputs": [
        {
          "output_type": "execute_result",
          "data": {
            "text/plain": [
              "['H', 'e', 'l', 'l', 'o', ' ', 'W', 'o', 'r', 'l', 'd']"
            ]
          },
          "metadata": {
            "tags": []
          },
          "execution_count": 19
        }
      ]
    },
    {
      "cell_type": "code",
      "metadata": {
        "id": "oNSgGhbEbNQj",
        "outputId": "01736315-1b10-4b32-9647-0a5f5ee4c19c"
      },
      "source": [
        "# one more example using range()\n",
        "[numbers**2 for numbers in range(2,10)]"
      ],
      "execution_count": null,
      "outputs": [
        {
          "output_type": "execute_result",
          "data": {
            "text/plain": [
              "[4, 9, 16, 25, 36, 49, 64, 81]"
            ]
          },
          "metadata": {
            "tags": []
          },
          "execution_count": 20
        }
      ]
    },
    {
      "cell_type": "markdown",
      "metadata": {
        "id": "--SpEiu8bNQk"
      },
      "source": [
        "# Tuples\n",
        "The tuple object (pronounced “toople” or “tuhple,” depending on whom you ask) is\n",
        "roughly like a list that cannot be changed—tuples are *sequences*, like lists, but they are\n",
        "immutable, like strings. Functionally, they’re used to represent fixed collections of\n",
        "items: the components of a specific calendar date, for instance. Syntactically, they are\n",
        "normally coded in parentheses instead of square brackets, and they support arbitrary\n",
        "types, arbitrary nesting, and the usual sequence operations:\n",
        "\n",
        "## Creating a Tuple"
      ]
    },
    {
      "cell_type": "markdown",
      "metadata": {
        "id": "T2NS72C0bNQl"
      },
      "source": [
        "Tuples are created using small brackets positioned around the elements of list that are separated\n",
        "using a comma. For example:"
      ]
    },
    {
      "cell_type": "code",
      "metadata": {
        "id": "xgaLs94dbNQm"
      },
      "source": [
        "T = (1, 2, 3, 4)     # A 4-item tuple"
      ],
      "execution_count": null,
      "outputs": []
    },
    {
      "cell_type": "code",
      "metadata": {
        "id": "wZrxqdrlbNQn",
        "outputId": "5e2267e4-c1db-4489-8e27-8dd38e9a6d88"
      },
      "source": [
        "# Print the tuple\n",
        "print(T)"
      ],
      "execution_count": null,
      "outputs": [
        {
          "output_type": "stream",
          "text": [
            "(1, 2, 3, 4)\n"
          ],
          "name": "stdout"
        }
      ]
    },
    {
      "cell_type": "code",
      "metadata": {
        "scrolled": true,
        "id": "oKJ4S6zAbNQo",
        "outputId": "2303fcd6-b047-46de-eecd-35c2277e87ae"
      },
      "source": [
        "# Check the data type\n",
        "print(type(T))"
      ],
      "execution_count": null,
      "outputs": [
        {
          "output_type": "stream",
          "text": [
            "<class 'tuple'>\n"
          ],
          "name": "stdout"
        }
      ]
    },
    {
      "cell_type": "markdown",
      "metadata": {
        "id": "c4q4SvthbNQp"
      },
      "source": [
        "More examples:"
      ]
    },
    {
      "cell_type": "code",
      "metadata": {
        "id": "RBJR6XmNbNQp"
      },
      "source": [
        "student_tuple = ()"
      ],
      "execution_count": null,
      "outputs": []
    },
    {
      "cell_type": "code",
      "metadata": {
        "id": "Z3CG70x5bNQq",
        "outputId": "3caafa54-02bb-4ada-d3da-23094f015821"
      },
      "source": [
        "student_tuple"
      ],
      "execution_count": null,
      "outputs": [
        {
          "output_type": "execute_result",
          "data": {
            "text/plain": [
              "()"
            ]
          },
          "metadata": {
            "tags": []
          },
          "execution_count": 23
        }
      ]
    },
    {
      "cell_type": "code",
      "metadata": {
        "id": "eXFlfTPlbNQr",
        "outputId": "a84692c3-eeb3-476b-96db-537e67d0676e"
      },
      "source": [
        "len(student_tuple)"
      ],
      "execution_count": null,
      "outputs": [
        {
          "output_type": "execute_result",
          "data": {
            "text/plain": [
              "0"
            ]
          },
          "metadata": {
            "tags": []
          },
          "execution_count": 24
        }
      ]
    },
    {
      "cell_type": "markdown",
      "metadata": {
        "id": "l4ZAj7pRbNQs"
      },
      "source": [
        "__You can pack a tuple by separating its values with commas__"
      ]
    },
    {
      "cell_type": "code",
      "metadata": {
        "id": "oUuUoB7HbNQt"
      },
      "source": [
        "student_tuple = 'Ali','Usman',3.3"
      ],
      "execution_count": null,
      "outputs": []
    },
    {
      "cell_type": "code",
      "metadata": {
        "id": "9bp9xdtqbNQt",
        "outputId": "8b09208b-0f84-4d8a-b38f-2e777e9c620e"
      },
      "source": [
        "student_tuple"
      ],
      "execution_count": null,
      "outputs": [
        {
          "output_type": "execute_result",
          "data": {
            "text/plain": [
              "('Ali', 'Usman', 3.3)"
            ]
          },
          "metadata": {
            "tags": []
          },
          "execution_count": 26
        }
      ]
    },
    {
      "cell_type": "markdown",
      "metadata": {
        "id": "7y7Sdv0jbNQu"
      },
      "source": [
        "__When you output a tuple, Python always displays its contents in parentheses. You may\n",
        "surround a tuple’s comma-separated list of values with optional parentheses:__"
      ]
    },
    {
      "cell_type": "code",
      "metadata": {
        "id": "v7NhJZAQbNQv",
        "colab": {
          "base_uri": "https://localhost:8080/"
        },
        "outputId": "b24f8334-a40a-4f81-bab2-933b8bf658a7"
      },
      "source": [
        ""
      ],
      "execution_count": 22,
      "outputs": [
        {
          "output_type": "stream",
          "text": [
            "('Zeeshan', 'Junaid', 'Shakeel')\n"
          ],
          "name": "stdout"
        }
      ]
    },
    {
      "cell_type": "markdown",
      "metadata": {
        "id": "X9uF-WX9bNQw"
      },
      "source": [
        "__A tuple with single element__"
      ]
    },
    {
      "cell_type": "code",
      "metadata": {
        "scrolled": true,
        "id": "NbIKx71lbNQw",
        "outputId": "28d631e7-8780-4e3a-e52d-dd4959933880"
      },
      "source": [
        "singleton_tuple = ('a',) #note the comma\n",
        "singleton_tuple_wrong = ('a') # this is not a tuple\n",
        "print(type(singleton_tuple))\n",
        "print(type(singleton_tuple_wrong))"
      ],
      "execution_count": null,
      "outputs": [
        {
          "output_type": "stream",
          "text": [
            "<class 'tuple'>\n",
            "<class 'str'>\n"
          ],
          "name": "stdout"
        }
      ]
    },
    {
      "cell_type": "markdown",
      "metadata": {
        "id": "LQmd1a-YbNQy"
      },
      "source": [
        "## Accessing Elements of Tuples (Indexing)\n",
        "You can access elements from a tuple using an index (within square bracket). The index returns the\n",
        "object at that position. For example:"
      ]
    },
    {
      "cell_type": "code",
      "metadata": {
        "id": "2z2XlEXFbNQz",
        "outputId": "dee7b0db-1695-4058-f110-3934293a48cc"
      },
      "source": [
        "T[1]"
      ],
      "execution_count": null,
      "outputs": [
        {
          "output_type": "execute_result",
          "data": {
            "text/plain": [
              "2"
            ]
          },
          "metadata": {
            "tags": []
          },
          "execution_count": 13
        }
      ]
    },
    {
      "cell_type": "code",
      "metadata": {
        "id": "nQ-MTkPjbNQ0"
      },
      "source": [
        "T1 = (1,(2,3,4), 5) # Nesting tuples"
      ],
      "execution_count": null,
      "outputs": []
    },
    {
      "cell_type": "code",
      "metadata": {
        "id": "e5IUaAY3bNQ1",
        "outputId": "36f54e21-0c0e-4658-823e-62ee9ea594a3"
      },
      "source": [
        "T1[0]"
      ],
      "execution_count": null,
      "outputs": [
        {
          "output_type": "execute_result",
          "data": {
            "text/plain": [
              "1"
            ]
          },
          "metadata": {
            "tags": []
          },
          "execution_count": 16
        }
      ]
    },
    {
      "cell_type": "code",
      "metadata": {
        "id": "jFNe-P3BbNQ2",
        "outputId": "caa9a310-3ae5-4ddf-c527-513f16f241ab"
      },
      "source": [
        "T1[1]"
      ],
      "execution_count": null,
      "outputs": [
        {
          "output_type": "execute_result",
          "data": {
            "text/plain": [
              "(2, 3, 4)"
            ]
          },
          "metadata": {
            "tags": []
          },
          "execution_count": 18
        }
      ]
    },
    {
      "cell_type": "code",
      "metadata": {
        "id": "PFOl17TtbNQ3",
        "outputId": "51baaca5-8215-47cc-b95e-e36af80ba42f"
      },
      "source": [
        "T1[1][2]"
      ],
      "execution_count": null,
      "outputs": [
        {
          "output_type": "execute_result",
          "data": {
            "text/plain": [
              "4"
            ]
          },
          "metadata": {
            "tags": []
          },
          "execution_count": 19
        }
      ]
    },
    {
      "cell_type": "markdown",
      "metadata": {
        "id": "VRhyTTG1bNQ4"
      },
      "source": [
        "## Tuples are Immutable\n",
        "Tuples are Immutable i.e. you can not assign or change a new value to a tuple. "
      ]
    },
    {
      "cell_type": "code",
      "metadata": {
        "id": "CboDXi3mbNQ5"
      },
      "source": [
        "t1 = (1,3,4)"
      ],
      "execution_count": null,
      "outputs": []
    },
    {
      "cell_type": "code",
      "metadata": {
        "scrolled": false,
        "id": "DJ4IlZ4MbNQ5",
        "outputId": "ba4a1bde-54ca-44ac-fc28-b5774f38d270"
      },
      "source": [
        "t1[0] = 2 # Illegal operation"
      ],
      "execution_count": null,
      "outputs": [
        {
          "output_type": "error",
          "ename": "TypeError",
          "evalue": "'tuple' object does not support item assignment",
          "traceback": [
            "\u001b[1;31m---------------------------------------------------------------------------\u001b[0m",
            "\u001b[1;31mTypeError\u001b[0m                                 Traceback (most recent call last)",
            "\u001b[1;32m<ipython-input-30-652e3dbd77c4>\u001b[0m in \u001b[0;36m<module>\u001b[1;34m\u001b[0m\n\u001b[1;32m----> 1\u001b[1;33m \u001b[0mt1\u001b[0m\u001b[1;33m[\u001b[0m\u001b[1;36m0\u001b[0m\u001b[1;33m]\u001b[0m \u001b[1;33m=\u001b[0m \u001b[1;36m2\u001b[0m \u001b[1;31m# Illegal operation\u001b[0m\u001b[1;33m\u001b[0m\u001b[1;33m\u001b[0m\u001b[0m\n\u001b[0m",
            "\u001b[1;31mTypeError\u001b[0m: 'tuple' object does not support item assignment"
          ]
        }
      ]
    },
    {
      "cell_type": "markdown",
      "metadata": {
        "id": "R_uqrKyPbNQ6"
      },
      "source": [
        "## Tuples may contain Mutable Objects\n",
        "Consider the following tuple that contains a list as its item. We know that lists are mutable."
      ]
    },
    {
      "cell_type": "code",
      "metadata": {
        "id": "N3Ua7kxbbNQ7"
      },
      "source": [
        "tm = (1,2,['a','b','c'])"
      ],
      "execution_count": null,
      "outputs": []
    },
    {
      "cell_type": "code",
      "metadata": {
        "id": "1vYwQ4iUbNQ8",
        "outputId": "c1b5fc58-c044-4176-8bdc-c9ec879e9de3"
      },
      "source": [
        "tm[2] #Get list"
      ],
      "execution_count": null,
      "outputs": [
        {
          "output_type": "execute_result",
          "data": {
            "text/plain": [
              "['a', 'b', 'c']"
            ]
          },
          "metadata": {
            "tags": []
          },
          "execution_count": 32
        }
      ]
    },
    {
      "cell_type": "code",
      "metadata": {
        "id": "8QrwMjaxbNQ9"
      },
      "source": [
        "tm[2][1] = 'z'"
      ],
      "execution_count": null,
      "outputs": []
    },
    {
      "cell_type": "code",
      "metadata": {
        "id": "-oHUGa9fbNQ-",
        "outputId": "5dceaed3-242e-4330-ef7e-95a5bc113316"
      },
      "source": [
        "tm"
      ],
      "execution_count": null,
      "outputs": [
        {
          "output_type": "execute_result",
          "data": {
            "text/plain": [
              "(1, 2, ['a', 'z', 'c'])"
            ]
          },
          "metadata": {
            "tags": []
          },
          "execution_count": 35
        }
      ]
    },
    {
      "cell_type": "markdown",
      "metadata": {
        "id": "DvENMYEjbNQ-"
      },
      "source": [
        "## Negative Indexing\n",
        "Negative indexing can also be applied on tuples."
      ]
    },
    {
      "cell_type": "code",
      "metadata": {
        "id": "UiKoiyDXbNQ_",
        "outputId": "a57b9f4a-2006-4e61-f3ff-4d76d6601ce7"
      },
      "source": [
        "T[-1]"
      ],
      "execution_count": null,
      "outputs": [
        {
          "output_type": "execute_result",
          "data": {
            "text/plain": [
              "4"
            ]
          },
          "metadata": {
            "tags": []
          },
          "execution_count": 20
        }
      ]
    },
    {
      "cell_type": "code",
      "metadata": {
        "scrolled": false,
        "id": "tneER8aZbNRA",
        "outputId": "bb08bfaa-b3d1-4d92-b3ee-018f7cff0256"
      },
      "source": [
        "# Index out of range\n",
        "T[5]"
      ],
      "execution_count": null,
      "outputs": [
        {
          "output_type": "error",
          "ename": "IndexError",
          "evalue": "tuple index out of range",
          "traceback": [
            "\u001b[1;31m---------------------------------------------------------------------------\u001b[0m",
            "\u001b[1;31mIndexError\u001b[0m                                Traceback (most recent call last)",
            "\u001b[1;32m<ipython-input-21-8ff8c8cdb193>\u001b[0m in \u001b[0;36m<module>\u001b[1;34m\u001b[0m\n\u001b[0;32m      1\u001b[0m \u001b[1;31m# Index out of range\u001b[0m\u001b[1;33m\u001b[0m\u001b[1;33m\u001b[0m\u001b[1;33m\u001b[0m\u001b[0m\n\u001b[1;32m----> 2\u001b[1;33m \u001b[0mT\u001b[0m\u001b[1;33m[\u001b[0m\u001b[1;36m5\u001b[0m\u001b[1;33m]\u001b[0m\u001b[1;33m\u001b[0m\u001b[1;33m\u001b[0m\u001b[0m\n\u001b[0m",
            "\u001b[1;31mIndexError\u001b[0m: tuple index out of range"
          ]
        }
      ]
    },
    {
      "cell_type": "markdown",
      "metadata": {
        "id": "TW71_hkvbNRB"
      },
      "source": [
        "## Tuple Packing and Unpacking"
      ]
    },
    {
      "cell_type": "markdown",
      "metadata": {
        "id": "ik5c5RpTbNRC"
      },
      "source": [
        "Tuple packing means packing/combining values into a tuple. The following is an example of tuple packing:"
      ]
    },
    {
      "cell_type": "code",
      "metadata": {
        "id": "zdHEhaonbNRC"
      },
      "source": [
        "tp = \"Val1\",2,[1,2]"
      ],
      "execution_count": null,
      "outputs": []
    },
    {
      "cell_type": "code",
      "metadata": {
        "id": "C6vX3o7tbNRD",
        "outputId": "1e9b3878-31ff-4b59-b5e9-34eb6f048580"
      },
      "source": [
        "tp"
      ],
      "execution_count": null,
      "outputs": [
        {
          "output_type": "execute_result",
          "data": {
            "text/plain": [
              "('Val1', 2, [1, 2])"
            ]
          },
          "metadata": {
            "tags": []
          },
          "execution_count": 37
        }
      ]
    },
    {
      "cell_type": "markdown",
      "metadata": {
        "id": "RJmH6tvMbNRE"
      },
      "source": [
        "You can also unpack the values into variables. "
      ]
    },
    {
      "cell_type": "code",
      "metadata": {
        "id": "lIlNhegxbNRF"
      },
      "source": [
        "a,b,c = tp"
      ],
      "execution_count": null,
      "outputs": []
    },
    {
      "cell_type": "code",
      "metadata": {
        "id": "g94ARO3EbNRG",
        "outputId": "4e72a664-2592-477b-851e-2aa8eaa6d264"
      },
      "source": [
        "print(a)\n",
        "print(b)\n",
        "print(c)"
      ],
      "execution_count": null,
      "outputs": [
        {
          "output_type": "stream",
          "text": [
            "Val1\n",
            "2\n",
            "[1, 2]\n"
          ],
          "name": "stdout"
        }
      ]
    },
    {
      "cell_type": "markdown",
      "metadata": {
        "id": "nLyXNwKZbNRG"
      },
      "source": [
        "## Exercise\n",
        "Create a tuple named cgpa that contains the cgpa of 6 students"
      ]
    },
    {
      "cell_type": "code",
      "metadata": {
        "id": "2m9EFfuIbNRH"
      },
      "source": [
        "cgpa=(\"Ali\",3.4,\"Ahmad\",2.6,\"Hassan\",3.6,\"Zubair\",2.9,\"Shafiq\",3.9,\"Usama\",4.0)"
      ],
      "execution_count": 23,
      "outputs": []
    },
    {
      "cell_type": "markdown",
      "metadata": {
        "id": "hX5X75rMbNRI"
      },
      "source": [
        "Print out the tuple cgpa"
      ]
    },
    {
      "cell_type": "code",
      "metadata": {
        "id": "kxnQm-GVbNRI",
        "colab": {
          "base_uri": "https://localhost:8080/"
        },
        "outputId": "d1ec1a66-2c61-4c5c-fb64-ea75315c9436"
      },
      "source": [
        "print(cgpa)"
      ],
      "execution_count": 24,
      "outputs": [
        {
          "output_type": "stream",
          "text": [
            "('Ali', 3.4, 'Ahmad', 2.6, 'Hassan', 3.6, 'Zubair', 2.9, 'Shafiq', 3.9, 'Usama', 4.0)\n"
          ],
          "name": "stdout"
        }
      ]
    },
    {
      "cell_type": "markdown",
      "metadata": {
        "id": "jt5kiaVFbNRJ"
      },
      "source": [
        "Print the cgpa of third student"
      ]
    },
    {
      "cell_type": "code",
      "metadata": {
        "id": "zxN0ppWsbNRK",
        "colab": {
          "base_uri": "https://localhost:8080/"
        },
        "outputId": "7d253399-43ce-4d20-85a0-72c81d1b38d4"
      },
      "source": [
        "print(cgpa[5])"
      ],
      "execution_count": 25,
      "outputs": [
        {
          "output_type": "stream",
          "text": [
            "3.6\n"
          ],
          "name": "stdout"
        }
      ]
    },
    {
      "cell_type": "markdown",
      "metadata": {
        "id": "ykz5WSnGbNRK"
      },
      "source": [
        "Use a for loop to iterate over tuple items of cgpa"
      ]
    },
    {
      "cell_type": "code",
      "metadata": {
        "id": "tOMp-_y8bNRL",
        "colab": {
          "base_uri": "https://localhost:8080/"
        },
        "outputId": "b02abe7f-05c4-4a92-f37a-3154f46f48c2"
      },
      "source": [
        "for val in range(len(cgpa)):\n",
        "  print(cgpa[val])"
      ],
      "execution_count": 28,
      "outputs": [
        {
          "output_type": "stream",
          "text": [
            "Ali\n",
            "3.4\n",
            "Ahmad\n",
            "2.6\n",
            "Hassan\n",
            "3.6\n",
            "Zubair\n",
            "2.9\n",
            "Shafiq\n",
            "3.9\n",
            "Usama\n",
            "4.0\n"
          ],
          "name": "stdout"
        }
      ]
    },
    {
      "cell_type": "markdown",
      "metadata": {
        "id": "nySi9qW8bNRM"
      },
      "source": [
        "## Nested Tuples\n",
        "\n",
        "Just like lists, tuples can also be nested."
      ]
    },
    {
      "cell_type": "code",
      "metadata": {
        "id": "dEEUemBGbNRM"
      },
      "source": [
        "# Multi-dimensional Tuple\n",
        "friends_age_2d = (\n",
        "    (\"Zeeshan\",26),\n",
        "    (\"Qasim\", 27),\n",
        "    (\"Huzaifa\", 25),\n",
        "    (\"Abdul Wahab\", 19),\n",
        "    (\"Sajawal\",27),\n",
        "    (\"Mudassar\",28)\n",
        " )"
      ],
      "execution_count": null,
      "outputs": []
    },
    {
      "cell_type": "code",
      "metadata": {
        "id": "shVpmz5nbNRN",
        "outputId": "36289802-64c1-476a-e0d2-85d241a1b298"
      },
      "source": [
        "#Fetch the element at index 3\n",
        "friends_age_2d[3]"
      ],
      "execution_count": null,
      "outputs": [
        {
          "output_type": "execute_result",
          "data": {
            "text/plain": [
              "('Abdul Wahab', 19)"
            ]
          },
          "metadata": {
            "tags": []
          },
          "execution_count": 41
        }
      ]
    },
    {
      "cell_type": "code",
      "metadata": {
        "id": "O8xXcQvObNRO",
        "outputId": "40929310-e6cf-42cb-f845-94c21e25f78c"
      },
      "source": [
        "# Fetch the age of sajawal\n",
        "friends_age_2d[3][1]"
      ],
      "execution_count": null,
      "outputs": [
        {
          "output_type": "execute_result",
          "data": {
            "text/plain": [
              "19"
            ]
          },
          "metadata": {
            "tags": []
          },
          "execution_count": 42
        }
      ]
    },
    {
      "cell_type": "code",
      "metadata": {
        "id": "I2LUbsfJbNRP",
        "outputId": "a478ab06-089d-4858-af65-18fea020f9ae"
      },
      "source": [
        "# print each friend info\n",
        "for friend in friends_age_2d:\n",
        "    print(f\"Name: {friend[0]}\")\n",
        "    print(f\"Age: {friend[1]}\")\n",
        "    print() # separating each friend by new line"
      ],
      "execution_count": null,
      "outputs": [
        {
          "output_type": "stream",
          "text": [
            "Name: Zeeshan\n",
            "Age: 26\n",
            "\n",
            "Name: Qasim\n",
            "Age: 27\n",
            "\n",
            "Name: Huzaifa\n",
            "Age: 25\n",
            "\n",
            "Name: Abdul Wahab\n",
            "Age: 19\n",
            "\n",
            "Name: Sajawal\n",
            "Age: 27\n",
            "\n",
            "Name: Mudassar\n",
            "Age: 28\n",
            "\n"
          ],
          "name": "stdout"
        }
      ]
    },
    {
      "cell_type": "markdown",
      "metadata": {
        "id": "G3a1NktubNRQ"
      },
      "source": [
        "## Exercise\n",
        "\n",
        "You have been provided a multi-dimentsional tuple containing names and cgpa of each student. Write a program that will print an average cgpa of students.  \n"
      ]
    },
    {
      "cell_type": "code",
      "metadata": {
        "id": "-Mxep-7pbNRR"
      },
      "source": [
        "students_cgpa = (\n",
        "    (\"Zeeshan\",3.71),\n",
        "    (\"Zunaina\", 3.82),\n",
        "    (\"Ahmed\", 3.87),\n",
        "    (\"Qasim\", 3.8),\n",
        "    (\"Komal\", 3.67),\n",
        "    (\"Nazifa\", 3.44)\n",
        ")"
      ],
      "execution_count": 29,
      "outputs": []
    },
    {
      "cell_type": "code",
      "metadata": {
        "id": "XKdV36WvbNRS",
        "colab": {
          "base_uri": "https://localhost:8080/"
        },
        "outputId": "39fecf63-6fae-46c9-d436-32285897b35f"
      },
      "source": [
        "average_cgpa=0;\n",
        "for val  in students_cgpa:\n",
        "  average_cgpa+=val[1]\n",
        "print(average_cgpa/len(students_cgpa)) \n"
      ],
      "execution_count": 31,
      "outputs": [
        {
          "output_type": "stream",
          "text": [
            "3.7183333333333333\n"
          ],
          "name": "stdout"
        }
      ]
    },
    {
      "cell_type": "markdown",
      "metadata": {
        "id": "CNvAiS1obNRT"
      },
      "source": [
        "## Tuple Slicing\n",
        "\n",
        "Method of slicing and indexing from the tuple is same like lists.\n",
        "\n",
        "    tuple_name[start:end]"
      ]
    },
    {
      "cell_type": "code",
      "metadata": {
        "id": "yrIJmUoRbNRU"
      },
      "source": [
        "# list of days of a week\n",
        "weekdays =(\"Sunday\",\"Monday\",\"Tuesday\",\"Wednesday\",\"Thursday\",\"Friday\",\"Saturday\")"
      ],
      "execution_count": null,
      "outputs": []
    },
    {
      "cell_type": "code",
      "metadata": {
        "id": "7sKKtIiubNRV"
      },
      "source": [
        "# The following statement uses a slicing expression to get the elements from indexes 2 up to, but not including, 5:\n",
        "mid_days = weekdays[2:5]"
      ],
      "execution_count": null,
      "outputs": []
    },
    {
      "cell_type": "code",
      "metadata": {
        "id": "VyWfq6kzbNRW",
        "outputId": "35f47f2e-9c78-47f2-e61e-fa04a06bd62b"
      },
      "source": [
        "print(mid_days)"
      ],
      "execution_count": null,
      "outputs": [
        {
          "output_type": "stream",
          "text": [
            "('Tuesday', 'Wednesday', 'Thursday')\n"
          ],
          "name": "stdout"
        }
      ]
    },
    {
      "cell_type": "markdown",
      "metadata": {
        "id": "NFTpxmTSbNRX"
      },
      "source": [
        "Omitting the start index will start the slice from the beginning"
      ]
    },
    {
      "cell_type": "code",
      "metadata": {
        "id": "_Hc5ocx3bNRX",
        "outputId": "0b0c628e-b235-49ed-a46c-34f30b63b986"
      },
      "source": [
        "weekdays[:4]"
      ],
      "execution_count": null,
      "outputs": [
        {
          "output_type": "execute_result",
          "data": {
            "text/plain": [
              "('Sunday', 'Monday', 'Tuesday', 'Wednesday')"
            ]
          },
          "metadata": {
            "tags": []
          },
          "execution_count": 30
        }
      ]
    },
    {
      "cell_type": "markdown",
      "metadata": {
        "id": "eIaqFGjBbNRY"
      },
      "source": [
        "Omitting the end index will slice till end of the list"
      ]
    },
    {
      "cell_type": "code",
      "metadata": {
        "id": "vGcFzyI_bNRZ",
        "outputId": "609dda38-40b6-4468-cab4-cec1879f4f7a"
      },
      "source": [
        "weekdays[4:]"
      ],
      "execution_count": null,
      "outputs": [
        {
          "output_type": "execute_result",
          "data": {
            "text/plain": [
              "('Thursday', 'Friday', 'Saturday')"
            ]
          },
          "metadata": {
            "tags": []
          },
          "execution_count": 31
        }
      ]
    },
    {
      "cell_type": "markdown",
      "metadata": {
        "id": "iO8lfXTXbNRa"
      },
      "source": [
        "## Copying Tuples\n",
        "\n",
        "To make a copy of a tuple, you must copy the elements of the tuple."
      ]
    },
    {
      "cell_type": "code",
      "metadata": {
        "id": "Cd_Dn8JQbNRb"
      },
      "source": [
        "from copy import deepcopy\n",
        "\n",
        "tup = (1, 2, 3, 4, 5)\n",
        "put = deepcopy(tup)"
      ],
      "execution_count": null,
      "outputs": []
    },
    {
      "cell_type": "markdown",
      "metadata": {
        "id": "q9MFJzVNbNRb"
      },
      "source": [
        "Admittedly, the ID of these two tuples will point to the same address. Because a tuple is immutable, there's really no rationale to create another copy of it that's the exact same. However, note that tuples can contain mutable elements to them, and deepcopy/id behaves as you anticipate it would:"
      ]
    },
    {
      "cell_type": "code",
      "metadata": {
        "id": "7S85PMWCbNRc",
        "outputId": "6fd04bfb-65d7-433f-b3b5-cd77790cfe21"
      },
      "source": [
        "from copy import deepcopy\n",
        "tup = (1, 2, [])\n",
        "put = deepcopy(tup)\n",
        "tup[2].append('hello')\n",
        "print(tup) # (1, 2, ['hello'])\n",
        "print(put) # (1, 2, [])"
      ],
      "execution_count": null,
      "outputs": [
        {
          "output_type": "stream",
          "text": [
            "(1, 2, ['hello'])\n",
            "(1, 2, [])\n"
          ],
          "name": "stdout"
        }
      ]
    },
    {
      "cell_type": "markdown",
      "metadata": {
        "id": "3wS7KVq_bNRd"
      },
      "source": [
        "## Sequence Operations\n",
        "\n",
        " Tuples are sequences, just like lists. The differences between tuples and lists are, the tuples cannot be changed unlike lists and tuples use parentheses, whereas lists use square brackets."
      ]
    },
    {
      "cell_type": "markdown",
      "metadata": {
        "id": "7Rsqy9ANbNRe"
      },
      "source": [
        "### Common Sequence Operations"
      ]
    },
    {
      "cell_type": "markdown",
      "metadata": {
        "id": "QA-ww-smbNRf"
      },
      "source": [
        "|Operation|Description|\n",
        "|:---------|:-----------|\n",
        "x in seq | True, when x is found in the sequence seq, otherwise False\n",
        "x not in seq | False, when x is found in the sequence seq, otherwise True\n",
        "x + y | Concatenate two sequences x and y\n",
        "x * n or n * x | Add sequence x with itself n times\n",
        "seq\\[i\\]| ith item of the sequence.\n",
        "len(seq) | Length or number of elements in the sequence\n",
        "min(seq) | Minimum element in the sequence\n",
        "max(seq) | Maximum element in the sequence\n",
        "seq.index(x\\[, i[, j]\\]) | Index of the first occurrence of x (in the index range i and j)\n",
        "seq.count(x) | Count total number of elements in the sequence\n"
      ]
    },
    {
      "cell_type": "code",
      "metadata": {
        "id": "dnGbJq6abNRg"
      },
      "source": [
        "# Create a list\n",
        "T = (1,2,3,4,5)"
      ],
      "execution_count": null,
      "outputs": []
    },
    {
      "cell_type": "code",
      "metadata": {
        "id": "aSdHS0eHbNRg",
        "outputId": "0e8883ab-3f57-492d-9dd9-8bd9c1eb3590"
      },
      "source": [
        "# Check if 2 is present in list\n",
        "if 2 in T:\n",
        "    print(\"2 is present\")\n",
        "else:\n",
        "    print(\"2 is not present\")"
      ],
      "execution_count": null,
      "outputs": [
        {
          "output_type": "stream",
          "text": [
            "2 is present\n"
          ],
          "name": "stdout"
        }
      ]
    },
    {
      "cell_type": "code",
      "metadata": {
        "id": "fR8JcwlWbNRh",
        "outputId": "a88c10ed-875b-4e06-cede-8b30cd3a34fc"
      },
      "source": [
        "# Check non-presence\n",
        "if -99 not in T:\n",
        "    print(\"-99 is not present\")"
      ],
      "execution_count": null,
      "outputs": [
        {
          "output_type": "stream",
          "text": [
            "-99 is not present\n"
          ],
          "name": "stdout"
        }
      ]
    },
    {
      "cell_type": "code",
      "metadata": {
        "id": "-hTWWKmtbNRi",
        "outputId": "77e08e3c-0c16-4a1d-f28e-e7f3902a807e"
      },
      "source": [
        "# Concatenation\n",
        "T1 = T + ('a','b','c') # Note that it creates a new tuple\n",
        "print(\"Tuple T: \", T)\n",
        "print(\"Tuple T1:\", T1)"
      ],
      "execution_count": null,
      "outputs": [
        {
          "output_type": "stream",
          "text": [
            "Tuple T:  (1, 2, 3, 4, 5)\n",
            "Tuple T1: (1, 2, 3, 4, 5, 'a', 'b', 'c')\n"
          ],
          "name": "stdout"
        }
      ]
    },
    {
      "cell_type": "code",
      "metadata": {
        "id": "1YGKFegebNRj",
        "outputId": "e99f6315-32ce-446d-95a3-18867dcef109"
      },
      "source": [
        "# Repeating tuple\n",
        "T2 = T1 * 3 # Repeats T1 3 times and creates a new tuple T2\n",
        "print(T2)"
      ],
      "execution_count": null,
      "outputs": [
        {
          "output_type": "stream",
          "text": [
            "(1, 2, 3, 4, 5, 'a', 'b', 'c', 1, 2, 3, 4, 5, 'a', 'b', 'c', 1, 2, 3, 4, 5, 'a', 'b', 'c')\n"
          ],
          "name": "stdout"
        }
      ]
    },
    {
      "cell_type": "code",
      "metadata": {
        "id": "lg_3zBcVbNRk",
        "outputId": "04258909-b0b6-41cb-ce42-c3606e68b7a3"
      },
      "source": [
        "# Length\n",
        "length = len(T1) # Remember the difference between keywords and reserved words? Is len reserved or keyword?\n",
        "print(\"Length: {}\".format(length))"
      ],
      "execution_count": null,
      "outputs": [
        {
          "output_type": "stream",
          "text": [
            "Length: 8\n"
          ],
          "name": "stdout"
        }
      ]
    },
    {
      "cell_type": "code",
      "metadata": {
        "id": "MlNJJ8UzbNRl",
        "outputId": "14185963-59ef-48de-a747-f4f511972af5"
      },
      "source": [
        "# Min and Max values\n",
        "min_val = min((2,3,6,5,4,0))\n",
        "max_val = max((2,3,6,5,4,0))\n",
        "print((2,3,6,5,4,0))\n",
        "print(\"Min: {}\".format(min_val))\n",
        "print(\"Max: {}\".format(max_val))"
      ],
      "execution_count": null,
      "outputs": [
        {
          "output_type": "stream",
          "text": [
            "(2, 3, 6, 5, 4, 0)\n",
            "Min: 0\n",
            "Max: 6\n"
          ],
          "name": "stdout"
        }
      ]
    },
    {
      "cell_type": "markdown",
      "metadata": {
        "id": "Ahz6bAIbbNRm"
      },
      "source": [
        "## Del Statement\n",
        "\n",
        "Removing individual tuple elements is not possible. There is, of course, nothing wrong with putting together another tuple with the undesired elements discarded using list comprehensions or slicing. To explicitly remove an entire tuple, you can use the del statement. "
      ]
    },
    {
      "cell_type": "code",
      "metadata": {
        "id": "ag_aKbIsbNRn",
        "outputId": "4926af42-d0fe-470d-9bdc-a3bf234e9635"
      },
      "source": [
        "tup = ('IICT', 'AI Lab', 2000, 2001)\n",
        "print(tup)\n",
        "del(tup)\n",
        "print(\"After deleting tup : \")\n",
        "print(tup)"
      ],
      "execution_count": null,
      "outputs": [
        {
          "output_type": "stream",
          "text": [
            "('IICT', 'AI Lab', 2000, 2001)\n",
            "After deleting tup : \n"
          ],
          "name": "stdout"
        },
        {
          "output_type": "error",
          "ename": "NameError",
          "evalue": "name 'tup' is not defined",
          "traceback": [
            "\u001b[1;31m---------------------------------------------------------------------------\u001b[0m",
            "\u001b[1;31mNameError\u001b[0m                                 Traceback (most recent call last)",
            "\u001b[1;32m<ipython-input-57-048459f70307>\u001b[0m in \u001b[0;36m<module>\u001b[1;34m\u001b[0m\n\u001b[0;32m      3\u001b[0m \u001b[1;32mdel\u001b[0m\u001b[1;33m(\u001b[0m\u001b[0mtup\u001b[0m\u001b[1;33m)\u001b[0m\u001b[1;33m\u001b[0m\u001b[1;33m\u001b[0m\u001b[0m\n\u001b[0;32m      4\u001b[0m \u001b[0mprint\u001b[0m\u001b[1;33m(\u001b[0m\u001b[1;34m\"After deleting tup : \"\u001b[0m\u001b[1;33m)\u001b[0m\u001b[1;33m\u001b[0m\u001b[1;33m\u001b[0m\u001b[0m\n\u001b[1;32m----> 5\u001b[1;33m \u001b[0mprint\u001b[0m\u001b[1;33m(\u001b[0m\u001b[0mtup\u001b[0m\u001b[1;33m)\u001b[0m\u001b[1;33m\u001b[0m\u001b[1;33m\u001b[0m\u001b[0m\n\u001b[0m",
            "\u001b[1;31mNameError\u001b[0m: name 'tup' is not defined"
          ]
        }
      ]
    },
    {
      "cell_type": "markdown",
      "metadata": {
        "id": "WK8W1RzRbNRo"
      },
      "source": [
        "## Passing and Returning tuple from Functions"
      ]
    },
    {
      "cell_type": "code",
      "metadata": {
        "id": "o396j1a-bNRp",
        "outputId": "2951f563-25f5-44d0-c490-a6baa2053dcd"
      },
      "source": [
        "def circleInfo(r):\n",
        "    \"\"\" Return (circumference, area) of a circle of radius r \"\"\"\n",
        "    c = 2 * 3.14159 * r\n",
        "    a = 3.14159 * r * r\n",
        "    return (c, a)\n",
        "\n",
        "print(circleInfo(10))"
      ],
      "execution_count": null,
      "outputs": [
        {
          "output_type": "stream",
          "text": [
            "(62.8318, 314.159)\n"
          ],
          "name": "stdout"
        }
      ]
    },
    {
      "cell_type": "code",
      "metadata": {
        "id": "P5VuzRl7bNRq",
        "outputId": "b6fa8ed0-a26a-4ed7-9783-c0517df57e86"
      },
      "source": [
        "def times_ten(a, b = 0, c = 0):\n",
        "    if isinstance(a, tuple):\n",
        "        b = a[1]\n",
        "        c = a[2]\n",
        "        a = a[0]\n",
        "\n",
        "    return (a*10,b*10,c*10)\n",
        "\n",
        "t = (2,4,6)\n",
        "print(times_ten(t)) # prints \"(20, 40, 60)\"\n",
        "\n",
        "print(times_ten(3,5,7)) # prints \"(30, 50, 70)\""
      ],
      "execution_count": null,
      "outputs": [
        {
          "output_type": "stream",
          "text": [
            "(20, 40, 60)\n",
            "(30, 50, 70)\n"
          ],
          "name": "stdout"
        }
      ]
    },
    {
      "cell_type": "markdown",
      "metadata": {
        "id": "N5mA8vqPbNRr"
      },
      "source": [
        "# Exercise\n",
        "\n",
        "## Rainfall Statistics\n",
        "Design a program that lets the user enter the total rainfall for each of 12 months into a\n",
        "list. The program should calculate and display the total rainfall for the year, the average\n",
        "monthly rainfall, and the months with the highest and lowest amounts.\n",
        "\n",
        "## Driver’s License Exam\n",
        "The local driver’s license office has asked you to create an application that grades the written\n",
        "portion of the driver’s license exam. The exam has 20 multiple-choice questions. Here\n",
        "are the correct answers:\n",
        "\n",
        "|   |   |   |  |\n",
        "| ----- | ----- | ----- |-----|\n",
        "| 1. A | 6. B | 11. A | 16. C |\n",
        "| 2. A | 7. B | 12. A | 17. C |\n",
        "| 3. A | 8. B | 13. A | 18. C |\n",
        "| 4. A | 9. B | 14. A | 19. C |\n",
        "| 5. A | 10. B| 15. A | 20. C |\n",
        "\n",
        "Your program should store these correct answers in a list. The program should read the\n",
        "student’s answers for each of the 20 questions from a text file and store the answers in\n",
        "another list. (Create your own text file to test the application.) After the student’s answers\n",
        "have been read from the file, the program should display a message indicating whether the\n",
        "student passed or failed the exam. (A student must correctly answer 15 of the 20 questions\n",
        "to pass the exam.) It should then display the total number of correctly answered questions,\n",
        "the total number of incorrectly answered questions, and a list showing the question numbers\n",
        "of the incorrectly answered questions.\n",
        "\n",
        "## Name Search\n",
        "You are provided two dataset files:\n",
        "\n",
        "* **GirlNames.txt**—This file contains a list of the 200 most popular names given to girls born in the United States from the year 2000 through 2009.\n",
        "* **BoyNames.txt**—This file contains a list of the 200 most popular names given to boys born in the United States from the year 2000 through 2009. \n",
        "\n",
        "Write a program that reads the contents of the two files into two separate lists. The user\n",
        "should be able to enter a boy’s name, a girl’s name, or both, and the application will display\n",
        "messages indicating whether the names were among the most popular.\n",
        "\n",
        "## Population Data\n",
        "\n",
        "You are provided a dataset file named **USPopulation.txt**. The file contains the midyear\n",
        "population of the United States, in thousands, during the years 1950 through 1990. The\n",
        "first line in the file contains the population for 1950, the second line contains the population\n",
        "for 1951, and so forth.\n",
        "\n",
        "Write a program that reads the file’s contents into a list. The program should display the\n",
        "following data:\n",
        "\n",
        "* The average annual change in population during the time period\n",
        "* The year with the greatest increase in population during the time period\n",
        "* The year with the smallest increase in population during the time period\n",
        "\n",
        "## World Series Champions\n",
        "\n",
        "You are given a dataset file named **WorldSeriesWinners.txt**. This file contains a chronological\n",
        "list of the World Series winning teams from 1903 through 2009. (The first line in\n",
        "the file is the name of the team that won in 1903, and the last line is the name of the team\n",
        "that won in 2009. Note that the World Series was not played in 1904 or 1994.)\n",
        "Write a program that lets the user enter the name of a team and then displays the number\n",
        "of times that team has won the World Series in the time period from 1903 through 2009.\n",
        "\n",
        "## Lo Shu Magic Square\n",
        "\n",
        "The Lo Shu Magic Square is a grid with 3 rows and 3 columns. The\n",
        "Lo Shu Magic Square has the following properties:\n",
        "\n",
        "* The grid contains the numbers 1 through 9 exactly.\n",
        "* The sum of each row, each column, and each diagonal all add up to the same number.\n",
        "\n",
        "In a program you can simulate a magic square using a two-dimensional list. Write a function\n",
        "that accepts a two-dimensional list as an argument and determines whether the list is\n",
        "a Lo Shu Magic Square. Test the function in a program.\n",
        "\n",
        "![Fig:1 The Lo Shu Magic Square](Table1.png)\n",
        "![Fig:2 The sum of the rows, columns, and diagonals](Table2.png)\n",
        "\n"
      ]
    },
    {
      "cell_type": "code",
      "metadata": {
        "id": "5gBukf6xbNRt"
      },
      "source": [
        ""
      ],
      "execution_count": null,
      "outputs": []
    }
  ]
}